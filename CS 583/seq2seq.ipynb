{
  "cells": [
    {
      "cell_type": "markdown",
      "metadata": {
        "id": "Ys6NNSDH2uqQ"
      },
      "source": [
        "# Assignment 3: Build a seq2seq model for machine translation.\n",
        "\n",
        "### Name: Christian Bautista\n",
        "\n",
        "### Task: Change LSTM model to Bidirectional LSTM Model， translate English to target language and evaluate using Bleu score.\n",
        "\n",
        "### Due Date: Tuesday, April 19th, 11:59PM"
      ]
    },
    {
      "cell_type": "markdown",
      "metadata": {
        "id": "Dm_b_vTK2uqf"
      },
      "source": [
        "## 0. You will do the following:\n",
        "\n",
        "1. Read and run the code. Please make sure you have installed keras or tensorflow.Running the script on colab will speed up the training process and also prevent package loading issue. \n",
        "2. Complete the code in Section 1.1, you may fill in your data directory.\n",
        "3. Directly modify the code in Section 3. Change the current LSTM layer to a Bidirectional LSTM Model.\n",
        "4. Training your model and translate English to Spanish in Section 4.2. You could try translating other languages.\n",
        "5. Complete the code in Section 5."
      ]
    },
    {
      "cell_type": "markdown",
      "metadata": {
        "id": "uxl5fAVD2uqg"
      },
      "source": [
        "### Hint: \n",
        "\n",
        "To implement ```Bi-LSTM```, you will need the following code to build the encoder. Do NOT use Bi-LSTM for the decoder. But there are other codes you need to modify to make it work."
      ]
    },
    {
      "cell_type": "code",
      "execution_count": 1,
      "metadata": {
        "colab": {
          "base_uri": "https://localhost:8080/",
          "height": 87
        },
        "id": "AXCj474g2uqh",
        "outputId": "6be3af15-4403-4101-8fad-d0ffb36f2fdf"
      },
      "outputs": [
        {
          "output_type": "execute_result",
          "data": {
            "text/plain": [
              "\"\\nfrom keras.layers import Bidirectional, Concatenate\\nfrom tensorflow.keras.layers import LSTM\\n\\nencoder_bilstm = Bidirectional(LSTM(latent_dim, return_state=True, \\n                                  dropout=0.5, name='encoder_lstm'))\\n_, forward_h, forward_c, backward_h, backward_c = encoder_bilstm(encoder_inputs)\\n\\nstate_h = Concatenate()([forward_h, backward_h])\\nstate_c = Concatenate()([forward_c, backward_c])\\n\""
            ],
            "application/vnd.google.colaboratory.intrinsic+json": {
              "type": "string"
            }
          },
          "metadata": {},
          "execution_count": 1
        }
      ],
      "source": [
        "'''\n",
        "from keras.layers import Bidirectional, Concatenate\n",
        "from tensorflow.keras.layers import LSTM\n",
        "\n",
        "encoder_bilstm = Bidirectional(LSTM(latent_dim, return_state=True, \n",
        "                                  dropout=0.5, name='encoder_lstm'))\n",
        "_, forward_h, forward_c, backward_h, backward_c = encoder_bilstm(encoder_inputs)\n",
        "\n",
        "state_h = Concatenate()([forward_h, backward_h])\n",
        "state_c = Concatenate()([forward_c, backward_c])\n",
        "'''"
      ]
    },
    {
      "cell_type": "markdown",
      "metadata": {
        "id": "yqqByK1N2uqj"
      },
      "source": [
        "## 1. Data preparation (10 points)\n",
        "\n",
        "1. Download spanish-english data from http://www.manythings.org/anki/\n",
        "2. You may try to use other languages.\n",
        "3. Unzip the .ZIP file.\n",
        "4. Put the .TXT file (e.g., \"deu.txt\") in the directory \"./Data/\".\n",
        "5. Fill in your data directory in section 1.1."
      ]
    },
    {
      "cell_type": "markdown",
      "metadata": {
        "id": "SBeX4z3Y2uqk"
      },
      "source": [
        "### 1.1. Load and clean text\n"
      ]
    },
    {
      "cell_type": "code",
      "execution_count": 2,
      "metadata": {
        "id": "06zuL3ox2uqk"
      },
      "outputs": [],
      "source": [
        "import re\n",
        "import string\n",
        "from unicodedata import normalize\n",
        "import numpy\n",
        "\n",
        "# load doc into memory\n",
        "def load_doc(filename):\n",
        "    # open the file as read only\n",
        "    file = open(filename, mode='rt', encoding='utf-8')\n",
        "    # read all text\n",
        "    text = file.read()\n",
        "    # close the file\n",
        "    file.close()\n",
        "    return text\n",
        "\n",
        "\n",
        "# split a loaded document into sentences\n",
        "def to_pairs(doc):\n",
        "    lines = doc.strip().split('\\n')\n",
        "    pairs = [line.split('\\t') for line in  lines]\n",
        "    return pairs\n",
        "\n",
        "def clean_data(lines):\n",
        "    cleaned = list()\n",
        "    # prepare regex for char filtering\n",
        "    re_print = re.compile('[^%s]' % re.escape(string.printable))\n",
        "    # prepare translation table for removing punctuation\n",
        "    table = str.maketrans('', '', string.punctuation)\n",
        "    for pair in lines:\n",
        "        clean_pair = list()\n",
        "        for line in pair:\n",
        "            # normalize unicode characters\n",
        "            line = normalize('NFD', line).encode('ascii', 'ignore')\n",
        "            line = line.decode('UTF-8')\n",
        "            # tokenize on white space\n",
        "            line = line.split()\n",
        "            # convert to lowercase\n",
        "            line = [word.lower() for word in line]\n",
        "            # remove punctuation from each token\n",
        "            line = [word.translate(table) for word in line]\n",
        "            # remove non-printable chars form each token\n",
        "            line = [re_print.sub('', w) for w in line]\n",
        "            # remove tokens with numbers in them\n",
        "            line = [word for word in line if word.isalpha()]\n",
        "            # store as string\n",
        "            clean_pair.append(' '.join(line))\n",
        "        cleaned.append(clean_pair)\n",
        "    return numpy.array(cleaned)"
      ]
    },
    {
      "cell_type": "markdown",
      "metadata": {
        "id": "C97k4Iye2uqm"
      },
      "source": [
        "#### Fill the following blanks:"
      ]
    },
    {
      "cell_type": "code",
      "execution_count": 3,
      "metadata": {
        "id": "HnHc1XvS2uqn"
      },
      "outputs": [],
      "source": [
        "# e.g., filename = 'Data/deu.txt'\n",
        "filename = 'Data/spa.txt'\n",
        "\n",
        "# e.g., n_train = 20000\n",
        "n_train = 20000"
      ]
    },
    {
      "cell_type": "code",
      "execution_count": 4,
      "metadata": {
        "id": "ztbN1vFp2uqo"
      },
      "outputs": [],
      "source": [
        "# load dataset\n",
        "doc = load_doc(filename)\n",
        "\n",
        "# split into Language1-Language2 pairs\n",
        "pairs = to_pairs(doc)\n",
        "\n",
        "# clean sentences\n",
        "clean_pairs = clean_data(pairs)[0:n_train, :]"
      ]
    },
    {
      "cell_type": "code",
      "execution_count": 5,
      "metadata": {
        "id": "BiWfCbAS2uqp",
        "colab": {
          "base_uri": "https://localhost:8080/"
        },
        "outputId": "c0850407-07c0-4110-f009-4747f13f0143"
      },
      "outputs": [
        {
          "output_type": "stream",
          "name": "stdout",
          "text": [
            "[youre here] => [estas aqui]\n",
            "[youre here] => [estais aqui]\n",
            "[youre late] => [estas retrasado]\n",
            "[youre lost] => [estas perdido]\n",
            "[youre mean] => [eres mala]\n",
            "[youre mean] => [eres mezquino]\n",
            "[youre mine] => [tu eres mio]\n",
            "[youre nice] => [eres simpatico]\n",
            "[youre nuts] => [estas loco]\n",
            "[youre nuts] => [estas chiflado]\n"
          ]
        }
      ],
      "source": [
        "for i in range(3000, 3010):\n",
        "    print('[' + clean_pairs[i, 0] + '] => [' + clean_pairs[i, 1] + ']')"
      ]
    },
    {
      "cell_type": "code",
      "execution_count": 6,
      "metadata": {
        "id": "N_D_iavX2uqq",
        "colab": {
          "base_uri": "https://localhost:8080/"
        },
        "outputId": "8d7159d4-1ec1-4970-e991-8bf9ed4edb37"
      },
      "outputs": [
        {
          "output_type": "stream",
          "name": "stdout",
          "text": [
            "Length of input_texts:  (20000,)\n",
            "Length of target_texts: (20000,)\n"
          ]
        }
      ],
      "source": [
        "input_texts = clean_pairs[:, 0]\n",
        "target_texts = ['\\t' + text + '\\n' for text in clean_pairs[:, 1]]\n",
        "\n",
        "print('Length of input_texts:  ' + str(input_texts.shape))\n",
        "print('Length of target_texts: ' + str(input_texts.shape))"
      ]
    },
    {
      "cell_type": "code",
      "execution_count": 7,
      "metadata": {
        "id": "itW3Nlep2uqq",
        "colab": {
          "base_uri": "https://localhost:8080/"
        },
        "outputId": "be8067e4-0654-4e2d-9f54-45f052f2d1d8"
      },
      "outputs": [
        {
          "output_type": "stream",
          "name": "stdout",
          "text": [
            "max length of input  sentences: 18\n",
            "max length of target sentences: 55\n"
          ]
        }
      ],
      "source": [
        "max_encoder_seq_length = max(len(line) for line in input_texts)\n",
        "max_decoder_seq_length = max(len(line) for line in target_texts)\n",
        "\n",
        "print('max length of input  sentences: %d' % (max_encoder_seq_length))\n",
        "print('max length of target sentences: %d' % (max_decoder_seq_length))"
      ]
    },
    {
      "cell_type": "markdown",
      "metadata": {
        "id": "_UTVdxP52uqq"
      },
      "source": [
        "**Remark:** To this end, you have two lists of sentences: input_texts and target_texts"
      ]
    },
    {
      "cell_type": "markdown",
      "metadata": {
        "id": "CP3bKvCe2uqr"
      },
      "source": [
        "## 2. Text processing\n",
        "\n",
        "### 2.1. Convert texts to sequences\n",
        "\n",
        "- Input: A list of $n$ sentences (with max length $t$).\n",
        "- It is represented by a $n\\times t$ matrix after the tokenization and zero-padding."
      ]
    },
    {
      "cell_type": "code",
      "execution_count": 41,
      "metadata": {
        "id": "2PrVCesW2uqr",
        "colab": {
          "base_uri": "https://localhost:8080/"
        },
        "outputId": "a8e4db5e-a6b7-44d2-ff0f-223b88236655"
      },
      "outputs": [
        {
          "output_type": "stream",
          "name": "stdout",
          "text": [
            "shape of encoder_input_seq: (20000, 18)\n",
            "shape of input_token_index: 27\n",
            "shape of decoder_input_seq: (20000, 55)\n",
            "shape of target_token_index: 29\n"
          ]
        }
      ],
      "source": [
        "from keras.preprocessing.text import Tokenizer\n",
        "from keras.preprocessing.sequence import pad_sequences\n",
        "\n",
        "# encode and pad sequences\n",
        "def text2sequences(max_len, lines):\n",
        "    tokenizer = Tokenizer(char_level=True, filters='')\n",
        "    tokenizer.fit_on_texts(lines)\n",
        "    seqs = tokenizer.texts_to_sequences(lines)\n",
        "    seqs_pad = pad_sequences(seqs, maxlen=max_len, padding='post')\n",
        "    return seqs_pad, tokenizer.word_index\n",
        "\n",
        "\n",
        "encoder_input_seq, input_token_index = text2sequences(max_encoder_seq_length, \n",
        "                                                      input_texts)\n",
        "decoder_input_seq, target_token_index = text2sequences(max_decoder_seq_length, \n",
        "                                                       target_texts)\n",
        "\n",
        "print('shape of encoder_input_seq: ' + str(encoder_input_seq.shape))\n",
        "print('shape of input_token_index: ' + str(len(input_token_index)))\n",
        "print('shape of decoder_input_seq: ' + str(decoder_input_seq.shape))\n",
        "print('shape of target_token_index: ' + str(len(target_token_index)))\n",
        "# print(\"-\")\n",
        "# print(encoder_input_seq)\n",
        "# print(decoder_input_seq)\n",
        "# print(input_token_index)\n",
        "# print(target_token_index)\n",
        "# print(input_texts)\n",
        "# print(target_texts)"
      ]
    },
    {
      "cell_type": "code",
      "execution_count": 9,
      "metadata": {
        "id": "XqtSzbb62uqr",
        "colab": {
          "base_uri": "https://localhost:8080/"
        },
        "outputId": "da5437aa-7597-4835-911d-594978eedb8e"
      },
      "outputs": [
        {
          "output_type": "stream",
          "name": "stdout",
          "text": [
            "num_encoder_tokens: 28\n",
            "num_decoder_tokens: 30\n"
          ]
        }
      ],
      "source": [
        "num_encoder_tokens = len(input_token_index) + 1\n",
        "num_decoder_tokens = len(target_token_index) + 1\n",
        "\n",
        "print('num_encoder_tokens: ' + str(num_encoder_tokens))\n",
        "print('num_decoder_tokens: ' + str(num_decoder_tokens))"
      ]
    },
    {
      "cell_type": "markdown",
      "metadata": {
        "id": "rP0d6B6A2uqr"
      },
      "source": [
        "**Remark:** To this end, the input language and target language texts are converted to 2 matrices. \n",
        "\n",
        "- Their number of rows are both n_train.\n",
        "- Their number of columns are respective max_encoder_seq_length and max_decoder_seq_length."
      ]
    },
    {
      "cell_type": "markdown",
      "metadata": {
        "id": "yeqHsTiO2uqs"
      },
      "source": [
        "The followings print a sentence and its representation as a sequence."
      ]
    },
    {
      "cell_type": "code",
      "execution_count": 10,
      "metadata": {
        "id": "mAZ7KrAW2uqs",
        "colab": {
          "base_uri": "https://localhost:8080/",
          "height": 35
        },
        "outputId": "b9f7959f-818b-4887-8afb-6771116ac701"
      },
      "outputs": [
        {
          "output_type": "execute_result",
          "data": {
            "text/plain": [
              "'\\tno puede ser\\n'"
            ],
            "application/vnd.google.colaboratory.intrinsic+json": {
              "type": "string"
            }
          },
          "metadata": {},
          "execution_count": 10
        }
      ],
      "source": [
        "target_texts[100]"
      ]
    },
    {
      "cell_type": "code",
      "execution_count": 11,
      "metadata": {
        "id": "NIffnd_C2uqs",
        "colab": {
          "base_uri": "https://localhost:8080/"
        },
        "outputId": "75d9ef93-5ad8-42a9-dc36-5795aec96ed1"
      },
      "outputs": [
        {
          "output_type": "execute_result",
          "data": {
            "text/plain": [
              "array([ 6,  8,  3,  1, 17, 14,  2, 15,  2,  1,  5,  2, 10,  7,  0,  0,  0,\n",
              "        0,  0,  0,  0,  0,  0,  0,  0,  0,  0,  0,  0,  0,  0,  0,  0,  0,\n",
              "        0,  0,  0,  0,  0,  0,  0,  0,  0,  0,  0,  0,  0,  0,  0,  0,  0,\n",
              "        0,  0,  0,  0], dtype=int32)"
            ]
          },
          "metadata": {},
          "execution_count": 11
        }
      ],
      "source": [
        "decoder_input_seq[100, :]"
      ]
    },
    {
      "cell_type": "markdown",
      "metadata": {
        "id": "Xe14fsjn2uqs"
      },
      "source": [
        "## 2.2. One-hot encode\n",
        "\n",
        "- Input: A list of $n$ sentences (with max length $t$).\n",
        "- It is represented by a $n\\times t$ matrix after the tokenization and zero-padding.\n",
        "- It is represented by a $n\\times t \\times v$ tensor ($t$ is the number of unique chars) after the one-hot encoding."
      ]
    },
    {
      "cell_type": "code",
      "execution_count": 12,
      "metadata": {
        "id": "rWttVWUf2uqs",
        "colab": {
          "base_uri": "https://localhost:8080/"
        },
        "outputId": "d498e8b2-a011-4103-bd84-980c55483628"
      },
      "outputs": [
        {
          "output_type": "stream",
          "name": "stdout",
          "text": [
            "(20000, 18, 28)\n",
            "(20000, 55, 30)\n"
          ]
        }
      ],
      "source": [
        "from tensorflow.keras.utils import to_categorical\n",
        "\n",
        "# one hot encode target sequence\n",
        "def onehot_encode(sequences, max_len, vocab_size):\n",
        "    n = len(sequences)\n",
        "    data = numpy.zeros((n, max_len, vocab_size))\n",
        "    for i in range(n):\n",
        "        data[i, :, :] = to_categorical(sequences[i], num_classes=vocab_size)\n",
        "    return data\n",
        "\n",
        "encoder_input_data = onehot_encode(encoder_input_seq, max_encoder_seq_length, num_encoder_tokens)\n",
        "decoder_input_data = onehot_encode(decoder_input_seq, max_decoder_seq_length, num_decoder_tokens)\n",
        "\n",
        "decoder_target_seq = numpy.zeros(decoder_input_seq.shape)\n",
        "decoder_target_seq[:, 0:-1] = decoder_input_seq[:, 1:]\n",
        "decoder_target_data = onehot_encode(decoder_target_seq, \n",
        "                                    max_decoder_seq_length, \n",
        "                                    num_decoder_tokens)\n",
        "\n",
        "print(encoder_input_data.shape)\n",
        "print(decoder_input_data.shape)"
      ]
    },
    {
      "cell_type": "markdown",
      "metadata": {
        "id": "W48_0c1k2uqt"
      },
      "source": [
        "## 3. Build the networks (for training) (20 points)\n",
        "\n",
        "- In this section, we have already implemented the LSTM model for you. You can run the code and see what the code is doing.  \n",
        "\n",
        "- You need to change the existing LSTM model to a Bidirectional LSTM model. Just modify the network structrue and do not change the training cell in section 3.4.\n",
        "\n",
        "- Build encoder, decoder, and connect the two modules to get \"model\". \n",
        "\n",
        "- Fit the model on the bilingual data to train the parameters in the encoder and decoder.\n",
        "\n"
      ]
    },
    {
      "cell_type": "markdown",
      "metadata": {
        "id": "mhvSkJlV2uqt"
      },
      "source": [
        "### 3.1. Encoder network\n",
        "\n",
        "- Input:  one-hot encode of the input language\n",
        "\n",
        "- Return: \n",
        "\n",
        "    -- output (all the hidden states   $h_1, \\cdots , h_t$) are always discarded\n",
        "    \n",
        "    -- the final hidden state  $h_t$\n",
        "    \n",
        "    -- the final conveyor belt $c_t$"
      ]
    },
    {
      "cell_type": "code",
      "execution_count": 14,
      "metadata": {
        "id": "pvS2n1Zu2uqt"
      },
      "outputs": [],
      "source": [
        "from tensorflow.keras.layers import Input, LSTM, Bidirectional, Concatenate\n",
        "from tensorflow.keras.models import Model\n",
        "\n",
        "latent_dim = 256\n",
        "\n",
        "# inputs of the encoder network\n",
        "encoder_inputs = Input(shape=(None, num_encoder_tokens), \n",
        "                       name='encoder_inputs')\n",
        "\n",
        "'''\n",
        "# set the LSTM layer\n",
        "encoder_lstm = LSTM(latent_dim, return_state=True, \n",
        "                    dropout=0.5, name='encoder_lstm')\n",
        "_, state_h, state_c = encoder_lstm(encoder_inputs)\n",
        "'''\n",
        "\n",
        "# set the Bidrectional LSTM layer\n",
        "encoder_bilstm = Bidirectional(LSTM(latent_dim, return_state=True, \n",
        "                                  dropout=0.5, name='encoder_lstm'))\n",
        "_, forward_h, forward_c, backward_h, backward_c = encoder_bilstm(encoder_inputs)\n",
        "\n",
        "state_h = Concatenate()([forward_h, backward_h])\n",
        "state_c = Concatenate()([forward_c, backward_c])\n",
        "\n",
        "# build the encoder network model\n",
        "encoder_model = Model(inputs=encoder_inputs, \n",
        "                      outputs=[state_h, state_c],\n",
        "                      name='encoder')"
      ]
    },
    {
      "cell_type": "markdown",
      "metadata": {
        "id": "dlaBXBUm2uqu"
      },
      "source": [
        "Print a summary and save the encoder network structure to \"./encoder.pdf\""
      ]
    },
    {
      "cell_type": "code",
      "execution_count": 15,
      "metadata": {
        "id": "TxsWrDls2uqu",
        "colab": {
          "base_uri": "https://localhost:8080/"
        },
        "outputId": "cd1beef6-6e23-4d97-cc17-42b236fef00d"
      },
      "outputs": [
        {
          "output_type": "stream",
          "name": "stdout",
          "text": [
            "Model: \"encoder\"\n",
            "__________________________________________________________________________________________________\n",
            " Layer (type)                   Output Shape         Param #     Connected to                     \n",
            "==================================================================================================\n",
            " encoder_inputs (InputLayer)    [(None, None, 28)]   0           []                               \n",
            "                                                                                                  \n",
            " bidirectional (Bidirectional)  [(None, 512),        583680      ['encoder_inputs[0][0]']         \n",
            "                                 (None, 256),                                                     \n",
            "                                 (None, 256),                                                     \n",
            "                                 (None, 256),                                                     \n",
            "                                 (None, 256)]                                                     \n",
            "                                                                                                  \n",
            " concatenate (Concatenate)      (None, 512)          0           ['bidirectional[0][1]',          \n",
            "                                                                  'bidirectional[0][3]']          \n",
            "                                                                                                  \n",
            " concatenate_1 (Concatenate)    (None, 512)          0           ['bidirectional[0][2]',          \n",
            "                                                                  'bidirectional[0][4]']          \n",
            "                                                                                                  \n",
            "==================================================================================================\n",
            "Total params: 583,680\n",
            "Trainable params: 583,680\n",
            "Non-trainable params: 0\n",
            "__________________________________________________________________________________________________\n"
          ]
        }
      ],
      "source": [
        "from IPython.display import SVG\n",
        "from keras.utils.vis_utils import model_to_dot, plot_model\n",
        "\n",
        "SVG(model_to_dot(encoder_model, show_shapes=False).create(prog='dot', format='svg'))\n",
        "\n",
        "plot_model(\n",
        "    model=encoder_model, show_shapes=False,\n",
        "    to_file='encoder.pdf'\n",
        ")\n",
        "\n",
        "encoder_model.summary()"
      ]
    },
    {
      "cell_type": "markdown",
      "metadata": {
        "id": "bwck-1zp2uqu"
      },
      "source": [
        "### 3.2. Decoder network\n",
        "\n",
        "- Inputs:  \n",
        "\n",
        "    -- one-hot encode of the target language\n",
        "    \n",
        "    -- The initial hidden state $h_t$ \n",
        "    \n",
        "    -- The initial conveyor belt $c_t$ \n",
        "\n",
        "- Return: \n",
        "\n",
        "    -- output (all the hidden states) $h_1, \\cdots , h_t$\n",
        "\n",
        "    -- the final hidden state  $h_t$ (discarded in the training and used in the prediction)\n",
        "    \n",
        "    -- the final conveyor belt $c_t$ (discarded in the training and used in the prediction)"
      ]
    },
    {
      "cell_type": "code",
      "execution_count": 16,
      "metadata": {
        "id": "uwFUEyAS2uqu"
      },
      "outputs": [],
      "source": [
        "from keras.layers import Input, LSTM, Dense\n",
        "from keras.models import Model\n",
        "\n",
        "latent_dim = 512\n",
        "\n",
        "# inputs of the decoder network\n",
        "decoder_input_h = Input(shape=(latent_dim,), name='decoder_input_h')\n",
        "decoder_input_c = Input(shape=(latent_dim,), name='decoder_input_c')\n",
        "decoder_input_x = Input(shape=(None, num_decoder_tokens), name='decoder_input_x')\n",
        "\n",
        "# set the LSTM layer\n",
        "decoder_lstm = LSTM(latent_dim, return_sequences=True, \n",
        "                    return_state=True, dropout=0.5, name='decoder_lstm')\n",
        "decoder_lstm_outputs, state_h, state_c = decoder_lstm(decoder_input_x, \n",
        "                                                      initial_state=[decoder_input_h, decoder_input_c])\n",
        "\n",
        "# set the dense layer\n",
        "decoder_dense = Dense(num_decoder_tokens, activation='softmax', name='decoder_dense')\n",
        "decoder_outputs = decoder_dense(decoder_lstm_outputs)\n",
        "\n",
        "# build the decoder network model\n",
        "decoder_model = Model(inputs=[decoder_input_x, decoder_input_h, decoder_input_c],\n",
        "                      outputs=[decoder_outputs, state_h, state_c],\n",
        "                      name='decoder')"
      ]
    },
    {
      "cell_type": "markdown",
      "metadata": {
        "id": "mUIZJbAT2uqu"
      },
      "source": [
        "Print a summary and save the encoder network structure to \"./decoder.pdf\""
      ]
    },
    {
      "cell_type": "code",
      "execution_count": 17,
      "metadata": {
        "id": "qQNs4xPJ2uqv",
        "colab": {
          "base_uri": "https://localhost:8080/"
        },
        "outputId": "1962a1cd-7d53-404b-e4fb-544b3e88c4f2"
      },
      "outputs": [
        {
          "output_type": "stream",
          "name": "stdout",
          "text": [
            "Model: \"decoder\"\n",
            "__________________________________________________________________________________________________\n",
            " Layer (type)                   Output Shape         Param #     Connected to                     \n",
            "==================================================================================================\n",
            " decoder_input_x (InputLayer)   [(None, None, 30)]   0           []                               \n",
            "                                                                                                  \n",
            " decoder_input_h (InputLayer)   [(None, 512)]        0           []                               \n",
            "                                                                                                  \n",
            " decoder_input_c (InputLayer)   [(None, 512)]        0           []                               \n",
            "                                                                                                  \n",
            " decoder_lstm (LSTM)            [(None, None, 512),  1112064     ['decoder_input_x[0][0]',        \n",
            "                                 (None, 512),                     'decoder_input_h[0][0]',        \n",
            "                                 (None, 512)]                     'decoder_input_c[0][0]']        \n",
            "                                                                                                  \n",
            " decoder_dense (Dense)          (None, None, 30)     15390       ['decoder_lstm[0][0]']           \n",
            "                                                                                                  \n",
            "==================================================================================================\n",
            "Total params: 1,127,454\n",
            "Trainable params: 1,127,454\n",
            "Non-trainable params: 0\n",
            "__________________________________________________________________________________________________\n"
          ]
        }
      ],
      "source": [
        "from IPython.display import SVG\n",
        "from keras.utils.vis_utils import model_to_dot, plot_model\n",
        "\n",
        "SVG(model_to_dot(decoder_model, show_shapes=False).create(prog='dot', format='svg'))\n",
        "\n",
        "plot_model(\n",
        "    model=decoder_model, show_shapes=False,\n",
        "    to_file='decoder.pdf'\n",
        ")\n",
        "\n",
        "decoder_model.summary()"
      ]
    },
    {
      "cell_type": "markdown",
      "metadata": {
        "id": "UMinANSb2uqv"
      },
      "source": [
        "### 3.3. Connect the encoder and decoder"
      ]
    },
    {
      "cell_type": "code",
      "execution_count": 18,
      "metadata": {
        "id": "CqtiyVWH2uqv"
      },
      "outputs": [],
      "source": [
        "# input layers\n",
        "encoder_input_x = Input(shape=(None, num_encoder_tokens), name='encoder_input_x')\n",
        "decoder_input_x = Input(shape=(None, num_decoder_tokens), name='decoder_input_x')\n",
        "\n",
        "# connect encoder to decoder\n",
        "encoder_final_states = encoder_model([encoder_input_x])\n",
        "decoder_lstm_output, _, _ = decoder_lstm(decoder_input_x, initial_state=encoder_final_states)\n",
        "decoder_pred = decoder_dense(decoder_lstm_output)\n",
        "\n",
        "model = Model(inputs=[encoder_input_x, decoder_input_x], \n",
        "              outputs=decoder_pred, \n",
        "              name='model_training')"
      ]
    },
    {
      "cell_type": "code",
      "execution_count": 19,
      "metadata": {
        "id": "GjgDfPId2uqw",
        "colab": {
          "base_uri": "https://localhost:8080/"
        },
        "outputId": "b39ce688-cef6-40c1-bae6-dc85cb37af81"
      },
      "outputs": [
        {
          "output_type": "stream",
          "name": "stdout",
          "text": [
            "Model: \"model_training\"\n",
            "__________________________________________________________________________________________________\n",
            " Layer (type)                   Output Shape         Param #     Connected to                     \n",
            "==================================================================================================\n",
            " encoder_input_x (InputLayer)   [(None, None, 28)]   0           []                               \n",
            "                                                                                                  \n",
            " decoder_input_x (InputLayer)   [(None, None, 30)]   0           []                               \n",
            "                                                                                                  \n",
            " encoder (Functional)           [(None, 512),        583680      ['encoder_input_x[0][0]']        \n",
            "                                 (None, 512)]                                                     \n",
            "                                                                                                  \n",
            " decoder_lstm (LSTM)            [(None, None, 512),  1112064     ['decoder_input_x[0][0]',        \n",
            "                                 (None, 512),                     'encoder[0][0]',                \n",
            "                                 (None, 512)]                     'encoder[0][1]']                \n",
            "                                                                                                  \n",
            " decoder_dense (Dense)          (None, None, 30)     15390       ['decoder_lstm[1][0]']           \n",
            "                                                                                                  \n",
            "==================================================================================================\n",
            "Total params: 1,711,134\n",
            "Trainable params: 1,711,134\n",
            "Non-trainable params: 0\n",
            "__________________________________________________________________________________________________\n"
          ]
        }
      ],
      "source": [
        "from IPython.display import SVG\n",
        "from keras.utils.vis_utils import model_to_dot, plot_model\n",
        "\n",
        "SVG(model_to_dot(model, show_shapes=False).create(prog='dot', format='svg'))\n",
        "\n",
        "plot_model(\n",
        "    model=model, show_shapes=False,\n",
        "    to_file='model_training.pdf'\n",
        ")\n",
        "\n",
        "model.summary()"
      ]
    },
    {
      "cell_type": "markdown",
      "metadata": {
        "id": "IsEjkFfl2uqw"
      },
      "source": [
        "### 3.4. Fit the model on the bilingual dataset\n",
        "\n",
        "- encoder_input_data: one-hot encode of the input language\n",
        "\n",
        "- decoder_input_data: one-hot encode of the input language\n",
        "\n",
        "- decoder_target_data: labels (left shift of decoder_input_data)\n",
        "\n",
        "- tune the hyper-parameters\n",
        "\n",
        "- stop when the validation loss stop decreasing."
      ]
    },
    {
      "cell_type": "code",
      "execution_count": 20,
      "metadata": {
        "id": "QW_KVAOA2uqx",
        "colab": {
          "base_uri": "https://localhost:8080/"
        },
        "outputId": "5cd815cd-db9a-4c73-b96d-0e17b632e6a5"
      },
      "outputs": [
        {
          "output_type": "stream",
          "name": "stdout",
          "text": [
            "shape of encoder_input_data(20000, 18, 28)\n",
            "shape of decoder_input_data(20000, 55, 30)\n",
            "shape of decoder_target_data(20000, 55, 30)\n"
          ]
        }
      ],
      "source": [
        "print('shape of encoder_input_data' + str(encoder_input_data.shape))\n",
        "print('shape of decoder_input_data' + str(decoder_input_data.shape))\n",
        "print('shape of decoder_target_data' + str(decoder_target_data.shape))"
      ]
    },
    {
      "cell_type": "code",
      "execution_count": 21,
      "metadata": {
        "id": "rW76EqdO2uqx",
        "colab": {
          "base_uri": "https://localhost:8080/"
        },
        "outputId": "3a6aba4f-3d23-4f06-d7dc-6906b103ae7b"
      },
      "outputs": [
        {
          "output_type": "stream",
          "name": "stdout",
          "text": [
            "Epoch 1/50\n",
            "250/250 [==============================] - 14s 22ms/step - loss: 0.9472 - val_loss: 0.8346\n",
            "Epoch 2/50\n",
            "250/250 [==============================] - 4s 17ms/step - loss: 0.7186 - val_loss: 0.7321\n",
            "Epoch 3/50\n",
            "250/250 [==============================] - 4s 17ms/step - loss: 0.6769 - val_loss: 0.6758\n",
            "Epoch 4/50\n",
            "250/250 [==============================] - 4s 17ms/step - loss: 0.6469 - val_loss: 0.6459\n",
            "Epoch 5/50\n",
            "250/250 [==============================] - 4s 17ms/step - loss: 0.6228 - val_loss: 0.6120\n",
            "Epoch 6/50\n",
            "250/250 [==============================] - 4s 18ms/step - loss: 0.6050 - val_loss: 0.5926\n",
            "Epoch 7/50\n",
            "250/250 [==============================] - 4s 17ms/step - loss: 0.5890 - val_loss: 0.5712\n",
            "Epoch 8/50\n",
            "250/250 [==============================] - 4s 17ms/step - loss: 0.5742 - val_loss: 0.5620\n",
            "Epoch 9/50\n",
            "250/250 [==============================] - 4s 17ms/step - loss: 0.5635 - val_loss: 0.5434\n",
            "Epoch 10/50\n",
            "250/250 [==============================] - 4s 17ms/step - loss: 0.5527 - val_loss: 0.5325\n",
            "Epoch 11/50\n",
            "250/250 [==============================] - 4s 18ms/step - loss: 0.5425 - val_loss: 0.5288\n",
            "Epoch 12/50\n",
            "250/250 [==============================] - 4s 17ms/step - loss: 0.5334 - val_loss: 0.5162\n",
            "Epoch 13/50\n",
            "250/250 [==============================] - 4s 17ms/step - loss: 0.5260 - val_loss: 0.5061\n",
            "Epoch 14/50\n",
            "250/250 [==============================] - 4s 17ms/step - loss: 0.5169 - val_loss: 0.4948\n",
            "Epoch 15/50\n",
            "250/250 [==============================] - 4s 17ms/step - loss: 0.5088 - val_loss: 0.4940\n",
            "Epoch 16/50\n",
            "250/250 [==============================] - 5s 18ms/step - loss: 0.5028 - val_loss: 0.4885\n",
            "Epoch 17/50\n",
            "250/250 [==============================] - 4s 17ms/step - loss: 0.4953 - val_loss: 0.4824\n",
            "Epoch 18/50\n",
            "250/250 [==============================] - 4s 18ms/step - loss: 0.4878 - val_loss: 0.4736\n",
            "Epoch 19/50\n",
            "250/250 [==============================] - 4s 18ms/step - loss: 0.4847 - val_loss: 0.4721\n",
            "Epoch 20/50\n",
            "250/250 [==============================] - 4s 18ms/step - loss: 0.4786 - val_loss: 0.4665\n",
            "Epoch 21/50\n",
            "250/250 [==============================] - 4s 18ms/step - loss: 0.4748 - val_loss: 0.4627\n",
            "Epoch 22/50\n",
            "250/250 [==============================] - 4s 18ms/step - loss: 0.4687 - val_loss: 0.4642\n",
            "Epoch 23/50\n",
            "250/250 [==============================] - 4s 18ms/step - loss: 0.4637 - val_loss: 0.4586\n",
            "Epoch 24/50\n",
            "250/250 [==============================] - 4s 18ms/step - loss: 0.4588 - val_loss: 0.4562\n",
            "Epoch 25/50\n",
            "250/250 [==============================] - 4s 18ms/step - loss: 0.4550 - val_loss: 0.4520\n",
            "Epoch 26/50\n",
            "250/250 [==============================] - 4s 18ms/step - loss: 0.4488 - val_loss: 0.4482\n",
            "Epoch 27/50\n",
            "250/250 [==============================] - 4s 18ms/step - loss: 0.4461 - val_loss: 0.4477\n",
            "Epoch 28/50\n",
            "250/250 [==============================] - 4s 18ms/step - loss: 0.4448 - val_loss: 0.4426\n",
            "Epoch 29/50\n",
            "250/250 [==============================] - 5s 19ms/step - loss: 0.4390 - val_loss: 0.4393\n",
            "Epoch 30/50\n",
            "250/250 [==============================] - 4s 18ms/step - loss: 0.4352 - val_loss: 0.4432\n",
            "Epoch 31/50\n",
            "250/250 [==============================] - 4s 18ms/step - loss: 0.4324 - val_loss: 0.4394\n",
            "Epoch 32/50\n",
            "250/250 [==============================] - 4s 18ms/step - loss: 0.4282 - val_loss: 0.4381\n",
            "Epoch 33/50\n",
            "250/250 [==============================] - 4s 18ms/step - loss: 0.4267 - val_loss: 0.4377\n",
            "Epoch 34/50\n",
            "250/250 [==============================] - 4s 18ms/step - loss: 0.4239 - val_loss: 0.4384\n",
            "Epoch 35/50\n",
            "250/250 [==============================] - 5s 18ms/step - loss: 0.4190 - val_loss: 0.4342\n",
            "Epoch 36/50\n",
            "250/250 [==============================] - 4s 18ms/step - loss: 0.4177 - val_loss: 0.4324\n",
            "Epoch 37/50\n",
            "250/250 [==============================] - 4s 18ms/step - loss: 0.4138 - val_loss: 0.4352\n",
            "Epoch 38/50\n",
            "250/250 [==============================] - 4s 18ms/step - loss: 0.4107 - val_loss: 0.4326\n",
            "Epoch 39/50\n",
            "250/250 [==============================] - 4s 18ms/step - loss: 0.4083 - val_loss: 0.4342\n",
            "Epoch 40/50\n",
            "250/250 [==============================] - 5s 19ms/step - loss: 0.4065 - val_loss: 0.4302\n",
            "Epoch 41/50\n",
            "250/250 [==============================] - 4s 18ms/step - loss: 0.4037 - val_loss: 0.4306\n",
            "Epoch 42/50\n",
            "250/250 [==============================] - 6s 23ms/step - loss: 0.4021 - val_loss: 0.4280\n",
            "Epoch 43/50\n",
            "250/250 [==============================] - 6s 23ms/step - loss: 0.3973 - val_loss: 0.4293\n",
            "Epoch 44/50\n",
            "250/250 [==============================] - 4s 18ms/step - loss: 0.3961 - val_loss: 0.4276\n",
            "Epoch 45/50\n",
            "250/250 [==============================] - 4s 18ms/step - loss: 0.3955 - val_loss: 0.4283\n",
            "Epoch 46/50\n",
            "250/250 [==============================] - 4s 18ms/step - loss: 0.3921 - val_loss: 0.4275\n",
            "Epoch 47/50\n",
            "250/250 [==============================] - 4s 18ms/step - loss: 0.3889 - val_loss: 0.4256\n",
            "Epoch 48/50\n",
            "250/250 [==============================] - 4s 18ms/step - loss: 0.3860 - val_loss: 0.4287\n",
            "Epoch 49/50\n",
            "250/250 [==============================] - 5s 19ms/step - loss: 0.3843 - val_loss: 0.4274\n",
            "Epoch 50/50\n",
            "250/250 [==============================] - 5s 18ms/step - loss: 0.3846 - val_loss: 0.4267\n"
          ]
        }
      ],
      "source": [
        "model.compile(optimizer='rmsprop', loss='categorical_crossentropy')\n",
        "\n",
        "model.fit([encoder_input_data, decoder_input_data],  # training data\n",
        "          decoder_target_data,                       # labels (left shift of the target sequences)\n",
        "          batch_size=64, epochs=50, validation_split=0.2)\n",
        "\n",
        "model.save('seq2seq.h5')"
      ]
    },
    {
      "cell_type": "markdown",
      "metadata": {
        "id": "DemEw12T2uqx"
      },
      "source": [
        "## 4. Make predictions\n",
        "\n",
        "- In this section, you need to complete section 4.2 to translate English to the target language.\n",
        "\n",
        "\n",
        "### 4.1. Translate English to XXX\n",
        "\n",
        "1. Encoder read a sentence (source language) and output its final states, $h_t$ and $c_t$.\n",
        "2. Take the [star] sign \"\\t\" and the final state $h_t$ and $c_t$ as input and run the decoder.\n",
        "3. Get the new states and predicted probability distribution.\n",
        "4. sample a char from the predicted probability distribution\n",
        "5. take the sampled char and the new states as input and repeat the process (stop if reach the [stop] sign \"\\n\")."
      ]
    },
    {
      "cell_type": "code",
      "execution_count": 22,
      "metadata": {
        "id": "DeYbW3PN2uqy"
      },
      "outputs": [],
      "source": [
        "# Reverse-lookup token index to decode sequences back to something readable.\n",
        "reverse_input_char_index = dict((i, char) for char, i in input_token_index.items())\n",
        "reverse_target_char_index = dict((i, char) for char, i in target_token_index.items())"
      ]
    },
    {
      "cell_type": "code",
      "execution_count": 23,
      "metadata": {
        "id": "dJ_xz3A92uqy"
      },
      "outputs": [],
      "source": [
        "def decode_sequence(input_seq):\n",
        "    states_value = encoder_model.predict(input_seq)\n",
        "\n",
        "    target_seq = numpy.zeros((1, 1, num_decoder_tokens))\n",
        "    target_seq[0, 0, target_token_index['\\t']] = 1.\n",
        "\n",
        "    stop_condition = False\n",
        "    decoded_sentence = ''\n",
        "    while not stop_condition:\n",
        "        output_tokens, h, c = decoder_model.predict([target_seq] + states_value)\n",
        "\n",
        "        # this line of code is greedy selection\n",
        "        # try to use multinomial sampling instead (with temperature)\n",
        "        sampled_token_index = numpy.argmax(output_tokens[0, -1, :])\n",
        "        \n",
        "        sampled_char = reverse_target_char_index[sampled_token_index]\n",
        "        decoded_sentence += sampled_char\n",
        "\n",
        "        if (sampled_char == '\\n' or\n",
        "           len(decoded_sentence) > max_decoder_seq_length):\n",
        "            stop_condition = True\n",
        "\n",
        "        target_seq = numpy.zeros((1, 1, num_decoder_tokens))\n",
        "        target_seq[0, 0, sampled_token_index] = 1.\n",
        "\n",
        "        states_value = [h, c]\n",
        "\n",
        "    return decoded_sentence\n"
      ]
    },
    {
      "cell_type": "code",
      "execution_count": 24,
      "metadata": {
        "id": "El6nuous2uqy",
        "colab": {
          "base_uri": "https://localhost:8080/"
        },
        "outputId": "a8cc29db-a5f4-49b1-f52f-75672ef29d9b"
      },
      "outputs": [
        {
          "output_type": "stream",
          "name": "stdout",
          "text": [
            "-\n",
            "English:        hes skinny\n",
            "Spanish (true):  el esta delgado\n",
            "Spanish (pred):  el esta entenado\n",
            "-\n",
            "English:        hes strong\n",
            "Spanish (true):  el es fuerte\n",
            "Spanish (pred):  el es amorrica\n",
            "-\n",
            "English:        hes stupid\n",
            "Spanish (true):  el es estupido\n",
            "Spanish (pred):  el es un adiato\n",
            "-\n",
            "English:        hes stupid\n",
            "Spanish (true):  no le llega agua al tanque\n",
            "Spanish (pred):  el es un adiato\n",
            "-\n",
            "English:        hes stupid\n",
            "Spanish (true):  es un salame\n",
            "Spanish (pred):  el es un adiato\n",
            "-\n",
            "English:        help me out\n",
            "Spanish (true):  ayudame\n",
            "Spanish (pred):  ayudame a la marda\n",
            "-\n",
            "English:        help me out\n",
            "Spanish (true):  ayudame a salir\n",
            "Spanish (pred):  ayudame a la marda\n",
            "-\n",
            "English:        help me out\n",
            "Spanish (true):  echeme la mano\n",
            "Spanish (pred):  ayudame a la marda\n",
            "-\n",
            "English:        help me out\n",
            "Spanish (true):  ayudame a salir\n",
            "Spanish (pred):  ayudame a la marda\n",
            "-\n",
            "English:        here i come\n",
            "Spanish (true):  aqui vengo\n",
            "Spanish (pred):  aqui vatoy\n",
            "-\n",
            "English:        here i come\n",
            "Spanish (true):  ya estoy aqui\n",
            "Spanish (pred):  aqui vatoy\n",
            "-\n",
            "English:        here she is\n",
            "Spanish (true):  aqui esta ella\n",
            "Spanish (pred):  toma prueba esto\n",
            "-\n",
            "English:        here we are\n",
            "Spanish (true):  aqui estamos\n",
            "Spanish (pred):  aqui vatamos\n",
            "-\n",
            "English:        here we are\n",
            "Spanish (true):  aqui estamos\n",
            "Spanish (pred):  aqui vatamos\n",
            "-\n",
            "English:        hi im tom\n",
            "Spanish (true):  hola soy tom\n",
            "Spanish (pred):  el es mi trabajo\n",
            "-\n",
            "English:        hit it hard\n",
            "Spanish (true):  dele fuerte\n",
            "Spanish (pred):  sela aqui\n",
            "-\n",
            "English:        how are you\n",
            "Spanish (true):  como estas vos\n",
            "Spanish (pred):  como estas tom\n",
            "-\n",
            "English:        how curious\n",
            "Spanish (true):  que curioso\n",
            "Spanish (pred):  que tal proseo\n",
            "-\n",
            "English:        how strange\n",
            "Spanish (true):  que raro\n",
            "Spanish (pred):  que harrienante\n",
            "-\n",
            "English:        how strange\n",
            "Spanish (true):  que raro\n",
            "Spanish (pred):  que harrienante\n"
          ]
        }
      ],
      "source": [
        "for seq_index in range(2100, 2120):\n",
        "    # Take one sequence (part of the training set)\n",
        "    # for trying out decoding.\n",
        "    input_seq = encoder_input_data[seq_index: seq_index + 1]\n",
        "    decoded_sentence = decode_sequence(input_seq)\n",
        "    print('-')\n",
        "    print('English:       ', input_texts[seq_index])\n",
        "    print('Spanish (true): ', target_texts[seq_index][1:-1])\n",
        "    print('Spanish (pred): ', decoded_sentence[0:-1])\n"
      ]
    },
    {
      "cell_type": "markdown",
      "metadata": {
        "id": "swGnGOiz2uqy"
      },
      "source": [
        "### 4.2. Translate an English sentence to the target language （20 points）\n",
        "\n",
        "1. Tokenization\n",
        "2. One-hot encode\n",
        "3. Translate"
      ]
    },
    {
      "cell_type": "code",
      "execution_count": 25,
      "metadata": {
        "id": "_AivWyyr2uqy",
        "colab": {
          "base_uri": "https://localhost:8080/"
        },
        "outputId": "af0ef194-cb1e-449c-ca0a-b99991495165"
      },
      "outputs": [
        {
          "output_type": "stream",
          "name": "stdout",
          "text": [
            "source sentence is: I love you\n",
            "translated sentence is: me acabo\n",
            "\n"
          ]
        }
      ],
      "source": [
        "input_sentence = 'I love you'\n",
        "\n",
        "input_sequence, _ = text2sequences(max_encoder_seq_length, [input_sentence])\n",
        "\n",
        "input_x = onehot_encode(input_sequence, max_encoder_seq_length, num_encoder_tokens)\n",
        "\n",
        "translated_sentence = decode_sequence(input_x)\n",
        "\n",
        "print('source sentence is: ' + input_sentence)\n",
        "print('translated sentence is: ' + translated_sentence)"
      ]
    },
    {
      "cell_type": "markdown",
      "metadata": {
        "id": "VJ0IElPO2uqz"
      },
      "source": [
        "# 5. Evaluate the translation using BLEU score\n",
        "\n",
        "- We have already translated from English to target language, but how can we evaluate the performance of our model quantitatively? \n",
        "\n",
        "- In this section, you need to re-train the model we built in secton 3 and then evaluate the bleu score on testing dataset.\n",
        "\n",
        "Reference:\n",
        "\n",
        "https://machinelearningmastery.com/calculate-bleu-score-for-text-python/\n",
        "\n",
        "https://en.wikipedia.org/wiki/BLEU\n",
        "\n",
        "#### Hint:\n",
        "\n",
        "- Randomly partition the dataset to training, validation, and test.\n",
        "\n",
        "- Evaluate the BLEU score using the test set. Report the average.\n",
        "\n",
        "- You may use packages to calculate bleu score, e.g., sentence_bleu() from nltk package."
      ]
    },
    {
      "cell_type": "markdown",
      "metadata": {
        "id": "xpNl6_Fz2uqz"
      },
      "source": [
        "### 5.1. Partition the dataset to training, validation, and test. Build new token index. (10 points)\n",
        "\n",
        "1. You may try to load more data/lines from text file.\n",
        "2. Convert text to sequences and build token index using training data.\n",
        "3. One-hot encode your training and validation text sequences."
      ]
    },
    {
      "cell_type": "code",
      "execution_count": 27,
      "metadata": {
        "id": "RWJ1NC2y2uqz",
        "colab": {
          "base_uri": "https://localhost:8080/"
        },
        "outputId": "95467332-459b-44fe-bc5a-a0c2c88b344b"
      },
      "outputs": [
        {
          "output_type": "stream",
          "name": "stderr",
          "text": [
            "/usr/local/lib/python3.7/dist-packages/ipykernel_launcher.py:9: VisibleDeprecationWarning: Creating an ndarray from ragged nested sequences (which is a list-or-tuple of lists-or-tuples-or ndarrays with different lengths or shapes) is deprecated. If you meant to do this, you must specify 'dtype=object' when creating the ndarray.\n",
            "  if __name__ == '__main__':\n",
            "/usr/local/lib/python3.7/dist-packages/ipykernel_launcher.py:10: VisibleDeprecationWarning: Creating an ndarray from ragged nested sequences (which is a list-or-tuple of lists-or-tuples-or ndarrays with different lengths or shapes) is deprecated. If you meant to do this, you must specify 'dtype=object' when creating the ndarray.\n",
            "  # Remove the CWD from sys.path while we load stuff.\n",
            "/usr/local/lib/python3.7/dist-packages/ipykernel_launcher.py:15: VisibleDeprecationWarning: Creating an ndarray from ragged nested sequences (which is a list-or-tuple of lists-or-tuples-or ndarrays with different lengths or shapes) is deprecated. If you meant to do this, you must specify 'dtype=object' when creating the ndarray.\n",
            "  from ipykernel import kernelapp as app\n",
            "/usr/local/lib/python3.7/dist-packages/ipykernel_launcher.py:16: VisibleDeprecationWarning: Creating an ndarray from ragged nested sequences (which is a list-or-tuple of lists-or-tuples-or ndarrays with different lengths or shapes) is deprecated. If you meant to do this, you must specify 'dtype=object' when creating the ndarray.\n",
            "  app.launch_new_instance()\n"
          ]
        }
      ],
      "source": [
        "from sklearn.model_selection import train_test_split\n",
        "\n",
        "x_tr, x_test, y_tr, y_test = train_test_split(input_texts, target_texts, test_size=0.2)\n",
        "x_train, x_val, y_train, y_val = train_test_split(x_tr,y_tr,test_size=0.2)\n",
        "\n",
        "x_train_sequence, x_train_token_index = text2sequences(max_encoder_seq_length, x_train)\n",
        "# x_val_sequence, x_val_token_index = text2sequences(max_encoder_seq_length, x_val)\n",
        "# x_test_sequence, x_test_token_index = text2sequences(max_encoder_seq_length, x_test)\n",
        "x_val_sequence = pad_sequences(numpy.array(list(map(lambda j: numpy.array(list(map(lambda k: x_train_token_index[k],j))),numpy.array(list(map(lambda i: numpy.array(list(i)),x_val)))))), max_encoder_seq_length, padding=\"post\")\n",
        "x_test_sequence = pad_sequences(numpy.array(list(map(lambda j: numpy.array(list(map(lambda k: x_train_token_index[k],j))),numpy.array(list(map(lambda i: numpy.array(list(i)),x_test)))))), max_encoder_seq_length, padding=\"post\")\n",
        "\n",
        "y_train_sequence, y_train_token_index = text2sequences(max_decoder_seq_length, y_train)\n",
        "# y_val_sequence, y_val_token_index = text2sequences(max_decoder_seq_length, y_val)\n",
        "# y_test_sequence, y_test_token_index = text2sequences(max_decoder_seq_length, y_test)\n",
        "y_val_sequence = pad_sequences(numpy.array(list(map(lambda j: numpy.array(list(map(lambda k: y_train_token_index[k],j))),numpy.array(list(map(lambda i: numpy.array(list(i)),y_val)))))), max_decoder_seq_length, padding=\"post\")\n",
        "y_test_sequence = pad_sequences(numpy.array(list(map(lambda j: numpy.array(list(map(lambda k: y_train_token_index[k],j))),numpy.array(list(map(lambda i: numpy.array(list(i)),y_test)))))), max_decoder_seq_length, padding=\"post\")\n",
        "\n",
        "x_vocab_size = len(x_train_token_index)+1\n",
        "y_vocab_size = len(y_train_token_index)+1\n",
        "\n",
        "x_train_encoded = onehot_encode(x_train_sequence, max_encoder_seq_length, x_vocab_size)\n",
        "x_val_encoded = onehot_encode(x_val_sequence, max_encoder_seq_length, x_vocab_size)\n",
        "x_test_encoded = onehot_encode(x_test_sequence, max_encoder_seq_length, x_vocab_size)\n",
        "y_train_encoded = onehot_encode(y_train_sequence, max_decoder_seq_length, y_vocab_size)\n",
        "y_val_encoded = onehot_encode(y_val_sequence, max_decoder_seq_length, y_vocab_size)\n",
        "y_test_encoded = onehot_encode(y_test_sequence, max_decoder_seq_length, y_vocab_size)\n",
        "\n",
        "y_train_shift = numpy.zeros(y_train_sequence.shape)\n",
        "y_train_shift[:, 0:-1] = y_train_sequence[:, 1:]\n",
        "y_train_labels = onehot_encode(y_train_shift, max_decoder_seq_length, y_vocab_size)\n",
        "\n",
        "y_val_shift = numpy.zeros(y_val_sequence.shape)\n",
        "y_val_shift[:, 0:-1] = y_val_sequence[:, 1:]\n",
        "y_val_labels = onehot_encode(y_val_shift, max_decoder_seq_length, y_vocab_size)"
      ]
    },
    {
      "cell_type": "markdown",
      "metadata": {
        "id": "AVzkSFyX2uqz"
      },
      "source": [
        "### 5.2 Retrain your previous Bidirectional LSTM model with training and validation data and tune the parameters (learning rate, optimizer, etc) based on validation score. (25 points)\n",
        "\n",
        "1. Use the model structure in section 3 to train a new model with new training and validation datasets.\n",
        "2. Based on validation BLEU score or loss to tune parameters."
      ]
    },
    {
      "cell_type": "code",
      "execution_count": 28,
      "metadata": {
        "id": "ucVnKEbr2uqz",
        "colab": {
          "base_uri": "https://localhost:8080/"
        },
        "outputId": "af7a8305-161a-4e06-c18d-a0d15ee91480"
      },
      "outputs": [
        {
          "output_type": "stream",
          "name": "stdout",
          "text": [
            "Epoch 1/50\n",
            "200/200 [==============================] - 8s 23ms/step - loss: 0.4269 - val_loss: 0.2625\n",
            "Epoch 2/50\n",
            "200/200 [==============================] - 3s 17ms/step - loss: 0.4176 - val_loss: 0.2667\n",
            "Epoch 3/50\n",
            "200/200 [==============================] - 3s 17ms/step - loss: 0.4140 - val_loss: 0.2675\n",
            "Epoch 4/50\n",
            "200/200 [==============================] - 4s 19ms/step - loss: 0.4121 - val_loss: 0.2706\n",
            "Epoch 5/50\n",
            "200/200 [==============================] - 3s 17ms/step - loss: 0.4057 - val_loss: 0.2728\n",
            "Epoch 6/50\n",
            "200/200 [==============================] - 3s 17ms/step - loss: 0.4055 - val_loss: 0.2742\n",
            "Epoch 7/50\n",
            "200/200 [==============================] - 4s 19ms/step - loss: 0.4015 - val_loss: 0.2753\n",
            "Epoch 8/50\n",
            "200/200 [==============================] - 4s 19ms/step - loss: 0.3995 - val_loss: 0.2748\n",
            "Epoch 9/50\n",
            "200/200 [==============================] - 4s 19ms/step - loss: 0.3969 - val_loss: 0.2761\n",
            "Epoch 10/50\n",
            "200/200 [==============================] - 3s 17ms/step - loss: 0.3942 - val_loss: 0.2794\n",
            "Epoch 11/50\n",
            "200/200 [==============================] - 4s 19ms/step - loss: 0.3941 - val_loss: 0.2791\n",
            "Epoch 12/50\n",
            "200/200 [==============================] - 3s 17ms/step - loss: 0.3910 - val_loss: 0.2807\n",
            "Epoch 13/50\n",
            "200/200 [==============================] - 3s 17ms/step - loss: 0.3885 - val_loss: 0.2810\n",
            "Epoch 14/50\n",
            "200/200 [==============================] - 4s 19ms/step - loss: 0.3854 - val_loss: 0.2817\n",
            "Epoch 15/50\n",
            "200/200 [==============================] - 3s 17ms/step - loss: 0.3835 - val_loss: 0.2827\n",
            "Epoch 16/50\n",
            "200/200 [==============================] - 3s 17ms/step - loss: 0.3830 - val_loss: 0.2841\n",
            "Epoch 17/50\n",
            "200/200 [==============================] - 4s 19ms/step - loss: 0.3814 - val_loss: 0.2825\n",
            "Epoch 18/50\n",
            "200/200 [==============================] - 3s 17ms/step - loss: 0.3788 - val_loss: 0.2830\n",
            "Epoch 19/50\n",
            "200/200 [==============================] - 4s 19ms/step - loss: 0.3757 - val_loss: 0.2861\n",
            "Epoch 20/50\n",
            "200/200 [==============================] - 4s 19ms/step - loss: 0.3766 - val_loss: 0.2856\n",
            "Epoch 21/50\n",
            "200/200 [==============================] - 3s 17ms/step - loss: 0.3717 - val_loss: 0.2860\n",
            "Epoch 22/50\n",
            "200/200 [==============================] - 4s 19ms/step - loss: 0.3723 - val_loss: 0.2877\n",
            "Epoch 23/50\n",
            "200/200 [==============================] - 4s 20ms/step - loss: 0.3716 - val_loss: 0.2879\n",
            "Epoch 24/50\n",
            "200/200 [==============================] - 4s 19ms/step - loss: 0.3675 - val_loss: 0.2878\n",
            "Epoch 25/50\n",
            "200/200 [==============================] - 4s 18ms/step - loss: 0.3674 - val_loss: 0.2885\n",
            "Epoch 26/50\n",
            "200/200 [==============================] - 3s 17ms/step - loss: 0.3645 - val_loss: 0.2893\n",
            "Epoch 27/50\n",
            "200/200 [==============================] - 4s 18ms/step - loss: 0.3635 - val_loss: 0.2911\n",
            "Epoch 28/50\n",
            "200/200 [==============================] - 4s 18ms/step - loss: 0.3620 - val_loss: 0.2907\n",
            "Epoch 29/50\n",
            "200/200 [==============================] - 4s 18ms/step - loss: 0.3621 - val_loss: 0.2914\n",
            "Epoch 30/50\n",
            "200/200 [==============================] - 4s 18ms/step - loss: 0.3608 - val_loss: 0.2907\n",
            "Epoch 31/50\n",
            "200/200 [==============================] - 4s 18ms/step - loss: 0.3578 - val_loss: 0.2910\n",
            "Epoch 32/50\n",
            "200/200 [==============================] - 4s 18ms/step - loss: 0.3578 - val_loss: 0.2908\n",
            "Epoch 33/50\n",
            "200/200 [==============================] - 4s 19ms/step - loss: 0.3547 - val_loss: 0.2926\n",
            "Epoch 34/50\n",
            "200/200 [==============================] - 4s 19ms/step - loss: 0.3535 - val_loss: 0.2920\n",
            "Epoch 35/50\n",
            "200/200 [==============================] - 4s 19ms/step - loss: 0.3529 - val_loss: 0.2929\n",
            "Epoch 36/50\n",
            "200/200 [==============================] - 4s 18ms/step - loss: 0.3504 - val_loss: 0.2943\n",
            "Epoch 37/50\n",
            "200/200 [==============================] - 4s 19ms/step - loss: 0.3506 - val_loss: 0.2958\n",
            "Epoch 38/50\n",
            "200/200 [==============================] - 4s 19ms/step - loss: 0.3460 - val_loss: 0.2953\n",
            "Epoch 39/50\n",
            "200/200 [==============================] - 4s 18ms/step - loss: 0.3463 - val_loss: 0.2953\n",
            "Epoch 40/50\n",
            "200/200 [==============================] - 4s 18ms/step - loss: 0.3454 - val_loss: 0.2970\n",
            "Epoch 41/50\n",
            "200/200 [==============================] - 4s 18ms/step - loss: 0.3469 - val_loss: 0.2980\n",
            "Epoch 42/50\n",
            "200/200 [==============================] - 4s 20ms/step - loss: 0.3444 - val_loss: 0.2988\n",
            "Epoch 43/50\n",
            "200/200 [==============================] - 4s 19ms/step - loss: 0.3440 - val_loss: 0.2978\n",
            "Epoch 44/50\n",
            "200/200 [==============================] - 4s 20ms/step - loss: 0.3406 - val_loss: 0.2984\n",
            "Epoch 45/50\n",
            "200/200 [==============================] - 4s 19ms/step - loss: 0.3408 - val_loss: 0.2982\n",
            "Epoch 46/50\n",
            "200/200 [==============================] - 4s 18ms/step - loss: 0.3395 - val_loss: 0.3007\n",
            "Epoch 47/50\n",
            "200/200 [==============================] - 4s 21ms/step - loss: 0.3384 - val_loss: 0.2999\n",
            "Epoch 48/50\n",
            "200/200 [==============================] - 4s 21ms/step - loss: 0.3373 - val_loss: 0.3034\n",
            "Epoch 49/50\n",
            "200/200 [==============================] - 4s 20ms/step - loss: 0.3366 - val_loss: 0.3012\n",
            "Epoch 50/50\n",
            "200/200 [==============================] - 5s 23ms/step - loss: 0.3355 - val_loss: 0.3027\n"
          ]
        },
        {
          "output_type": "execute_result",
          "data": {
            "text/plain": [
              "<keras.callbacks.History at 0x7efd99797c90>"
            ]
          },
          "metadata": {},
          "execution_count": 28
        }
      ],
      "source": [
        "model.compile(optimizer='rmsprop', loss='categorical_crossentropy')\n",
        "\n",
        "model.fit([x_train_encoded, y_train_encoded],\n",
        "          y_train_labels,                      \n",
        "          batch_size=64, epochs=50, validation_data=([x_val_encoded, y_val_encoded], y_val_labels))"
      ]
    },
    {
      "cell_type": "markdown",
      "metadata": {
        "id": "588HM5FZ2uqz"
      },
      "source": [
        "### 5.3 Evaluate the BLEU score using the test set. (15 points)\n",
        "\n",
        "1. Use trained model above to calculate the BLEU score with testing dataset."
      ]
    },
    {
      "cell_type": "code",
      "execution_count": 42,
      "metadata": {
        "id": "FGRUQwi22uqz",
        "colab": {
          "base_uri": "https://localhost:8080/"
        },
        "outputId": "75398379-ee6a-4524-cae0-3b12baf117c1"
      },
      "outputs": [
        {
          "output_type": "stream",
          "name": "stdout",
          "text": [
            "-\n",
            "English:        well obey\n",
            "Spanish (true):  obedeceremos\n",
            "Spanish (pred):  nosotros comparemos\n",
            "0.749634235443537\n"
          ]
        },
        {
          "output_type": "stream",
          "name": "stderr",
          "text": [
            "/usr/local/lib/python3.7/dist-packages/nltk/translate/bleu_score.py:490: UserWarning: \n",
            "Corpus/Sentence contains 0 counts of 2-gram overlaps.\n",
            "BLEU scores might be undesirable; use SmoothingFunction().\n",
            "  warnings.warn(_msg)\n"
          ]
        },
        {
          "output_type": "stream",
          "name": "stdout",
          "text": [
            "-\n",
            "English:        have another cup\n",
            "Spanish (true):  sirvanse otra copa\n",
            "Spanish (pred):  tene un poco de pas\n",
            "0.8296066547537364\n",
            "-\n",
            "English:        its very good\n",
            "Spanish (true):  esta muy bien\n",
            "Spanish (pred):  es muy bueno\n",
            "0.9036020036098448\n",
            "-\n",
            "English:        he cheated on me\n",
            "Spanish (true):  fui enganado por el\n",
            "Spanish (pred):  el me hazo la meno\n",
            "0.7598356856515925\n",
            "-\n",
            "English:        be confident\n",
            "Spanish (true):  estate seguro de ti mismo\n",
            "Spanish (pred):  se franceso\n",
            "0.8593887047640296\n",
            "-\n",
            "English:        i like jazz\n",
            "Spanish (true):  me gusta el jazz\n",
            "Spanish (pred):  me gusta la paz\n",
            "0.9036020036098448\n",
            "-\n",
            "English:        its incredible\n",
            "Spanish (true):  increible\n",
            "Spanish (pred):  es inoreele\n",
            "0.8210967436686386\n",
            "-\n",
            "English:        we cant sue\n",
            "Spanish (true):  no podemos demandar\n",
            "Spanish (pred):  no podemos hacir\n",
            "0.8891397050194614\n",
            "-\n",
            "English:        tom likes stories\n",
            "Spanish (true):  a tom le gustan las historias\n",
            "Spanish (pred):  a tom le gustan los rabanos\n",
            "0.816496580927726\n",
            "-\n",
            "English:        its impossible\n",
            "Spanish (true):  es imposible\n",
            "Spanish (pred):  es inoresione\n",
            "0.7875110621102679\n",
            "-\n",
            "English:        stay away from me\n",
            "Spanish (true):  mantente alejado de mi\n",
            "Spanish (pred):  quedate con nosotros\n",
            "0.7691605673134586\n",
            "-\n",
            "English:        that cat is brown\n",
            "Spanish (true):  aquel gato es cafe\n",
            "Spanish (pred):  ese poche es nuevo\n",
            "0.7598356856515925\n",
            "-\n",
            "English:        what did we lose\n",
            "Spanish (true):  que es lo que hemos perdido\n",
            "Spanish (pred):  que dijo tan\n",
            "0.8739351325046805\n",
            "-\n",
            "English:        i am your father\n",
            "Spanish (true):  yo soy tu padre\n",
            "Spanish (pred):  estoy tu casa\n",
            "0.8857000285382948\n",
            "-\n",
            "English:        the fire is out\n",
            "Spanish (true):  el fuego se extinguio\n",
            "Spanish (pred):  la suerte esta echada\n",
            "0.7311104457090247\n",
            "-\n",
            "English:        stay right there\n",
            "Spanish (true):  quedate ahi\n",
            "Spanish (pred):  quedate aqui con nosotros\n",
            "0.7521206186172787\n",
            "-\n",
            "English:        who hid it\n",
            "Spanish (true):  quien lo escondio\n",
            "Spanish (pred):  quien lo hico\n",
            "0.912167909070388\n",
            "-\n",
            "English:        it rained heavily\n",
            "Spanish (true):  ha llovido mucho\n",
            "Spanish (pred):  el es una viena lacina\n",
            "0.7510499815709779\n",
            "-\n",
            "English:        send it to me\n",
            "Spanish (true):  mandamelo\n",
            "Spanish (pred):  mandamelo\n",
            "0.9391044157537525\n",
            "-\n",
            "English:        somebodys coming\n",
            "Spanish (true):  viene alguien\n",
            "Spanish (pred):  alguien gano\n",
            "0.9036020036098448\n",
            "-\n",
            "English:        hes not a hero\n",
            "Spanish (true):  el no es un heroe\n",
            "Spanish (pred):  no esta en el arte\n",
            "0.7896895367562644\n",
            "-\n",
            "English:        i was trapped\n",
            "Spanish (true):  estaba atrapado\n",
            "Spanish (pred):  estaba atrapado\n",
            "0.9036020036098448\n",
            "-\n",
            "English:        im here with tom\n",
            "Spanish (true):  estoy aqui con tom\n",
            "Spanish (pred):  estoy mes contigo\n",
            "0.8757653731721587\n",
            "-\n",
            "English:        theyre both dead\n",
            "Spanish (true):  ambas estan muertas\n",
            "Spanish (pred):  estan estapandos\n",
            "0.7825422900366437\n",
            "-\n",
            "English:        summer is over\n",
            "Spanish (true):  el verano se ha ido\n",
            "Spanish (pred):  el verano termino\n",
            "0.8529987544592307\n",
            "-\n",
            "English:        im toms uncle\n",
            "Spanish (true):  soy el tio de tom\n",
            "Spanish (pred):  soy el pedro de tom\n",
            "0.8296066547537364\n",
            "-\n",
            "English:        they work hard\n",
            "Spanish (true):  trabajan mucho\n",
            "Spanish (pred):  ellos erabajan auertos\n",
            "0.7997513045108656\n",
            "-\n",
            "English:        its a good book\n",
            "Spanish (true):  es un libro genial\n",
            "Spanish (pred):  es una buena para la iderta\n",
            "0.7801157731069053\n",
            "-\n",
            "English:        were professors\n",
            "Spanish (true):  somos profesores\n",
            "Spanish (pred):  somos personos aermanos\n",
            "0.7427498127683173\n",
            "-\n",
            "English:        hes a comedian\n",
            "Spanish (true):  el es comediante\n",
            "Spanish (pred):  el es un combre de verdad\n",
            "0.7952707287670506\n",
            "-\n",
            "English:        it is a book\n",
            "Spanish (true):  esto es un libro\n",
            "Spanish (pred):  es una broma\n",
            "0.9036020036098448\n",
            "-\n",
            "English:        that girl is mary\n",
            "Spanish (true):  esa chica es maria\n",
            "Spanish (pred):  ese perro es trande\n",
            "0.7162326270441588\n",
            "-\n",
            "English:        i could kill you\n",
            "Spanish (true):  yo podria matarlas\n",
            "Spanish (pred):  yo lo podria matar\n",
            "0.8841583342199357\n",
            "-\n",
            "English:        ok listen up\n",
            "Spanish (true):  bueno escucha\n",
            "Spanish (pred):  valo atenta\n",
            "0.8210967436686386\n",
            "-\n",
            "English:        i like pie\n",
            "Spanish (true):  me gustan las tartas\n",
            "Spanish (pred):  me gustan los tieres\n",
            "0.861173529963367\n",
            "-\n",
            "English:        try eating it\n",
            "Spanish (true):  intenta comertelo\n",
            "Spanish (pred):  prueba layendo\n",
            "0.8408964152537145\n",
            "-\n",
            "English:        what does he do\n",
            "Spanish (true):  a que se dedica\n",
            "Spanish (pred):  que hice\n",
            "0.9306048591020996\n",
            "-\n",
            "English:        hes always busy\n",
            "Spanish (true):  siempre esta ocupado\n",
            "Spanish (pred):  el esta suera femaroso\n",
            "0.7997513045108656\n",
            "-\n",
            "English:        i love garlic\n",
            "Spanish (true):  yo amo el ajo\n",
            "Spanish (pred):  me encantan las mamas\n",
            "0.6985342056580097\n",
            "-\n",
            "English:        are we friends\n",
            "Spanish (true):  somos amigos\n",
            "Spanish (pred):  somos amigos\n",
            "0.8739351325046805\n",
            "-\n",
            "English:        i kneeled\n",
            "Spanish (true):  me arrodillaba\n",
            "Spanish (pred):  me quele\n",
            "0.8408964152537145\n",
            "-\n",
            "English:        tom staggered\n",
            "Spanish (true):  tom vacilo\n",
            "Spanish (pred):  tom esta en problemas\n",
            "0.7311104457090247\n",
            "-\n",
            "English:        they already know\n",
            "Spanish (true):  ellas ya saben\n",
            "Spanish (pred):  todos lo saben\n",
            "0.8408964152537145\n",
            "-\n",
            "English:        theyre in\n",
            "Spanish (true):  ellos se apuntan\n",
            "Spanish (pred):  ellos estan en casa\n",
            "0.8055344092731546\n",
            "-\n",
            "English:        did you buy a car\n",
            "Spanish (true):  compro usted un coche\n",
            "Spanish (pred):  compraron ustedes un coche\n",
            "0.8408964152537145\n",
            "-\n",
            "English:        theyre yours\n",
            "Spanish (true):  son suyos\n",
            "Spanish (pred):  estan sonos\n",
            "0.7765453555044466\n",
            "-\n",
            "English:        you got it wrong\n",
            "Spanish (true):  entendiste mal\n",
            "Spanish (pred):  tu perro que es a ero\n",
            "0.6985342056580097\n",
            "-\n",
            "English:        my uncle is rich\n",
            "Spanish (true):  mi tio es rico\n",
            "Spanish (pred):  mi padre es bienco\n",
            "0.816496580927726\n",
            "-\n",
            "English:        come and see me\n",
            "Spanish (true):  venid a verme\n",
            "Spanish (pred):  ven a virme\n",
            "0.9234732618882052\n",
            "-\n",
            "English:        he has a cold\n",
            "Spanish (true):  el esta constipado\n",
            "Spanish (pred):  el tiene un coche\n",
            "0.8282477531331041\n",
            "-\n",
            "English:        dont hurt her\n",
            "Spanish (true):  no la lastimes\n",
            "Spanish (pred):  no porras aqui\n",
            "0.8091067115702212\n",
            "-\n",
            "English:        theyll attack\n",
            "Spanish (true):  ellos atacaran\n",
            "Spanish (pred):  ellos estaban en el trabajo\n",
            "0.7598356856515925\n",
            "-\n",
            "English:        i have no fever\n",
            "Spanish (true):  no tengo fiebre\n",
            "Spanish (pred):  no tengo un amigo\n",
            "0.8010548969451144\n",
            "-\n",
            "English:        she isnt married\n",
            "Spanish (true):  ella no esta casada\n",
            "Spanish (pred):  ella no es cinamita\n",
            "0.8296066547537364\n",
            "-\n",
            "English:        look away\n",
            "Spanish (true):  miren para otro lado\n",
            "Spanish (pred):  mire para otro lado\n",
            "0.8722877451005959\n",
            "-\n",
            "English:        we won the match\n",
            "Spanish (true):  ganamos el partido\n",
            "Spanish (pred):  ganamos la licia\n",
            "0.8660254037844387\n",
            "-\n",
            "English:        god sent a sign\n",
            "Spanish (true):  dios envio una senal\n",
            "Spanish (pred):  el geduno un mento\n",
            "0.7896895367562644\n",
            "-\n",
            "English:        im a doctor\n",
            "Spanish (true):  soy doctor\n",
            "Spanish (pred):  soy un cobaria\n",
            "0.8091067115702212\n",
            "-\n",
            "English:        whats tom eating\n",
            "Spanish (true):  que esta comiendo tom\n",
            "Spanish (pred):  que esta pasando tom\n",
            "0.861173529963367\n",
            "-\n",
            "English:        lunch is ready\n",
            "Spanish (true):  la comida esta lista\n",
            "Spanish (pred):  la crena esta es rapida\n",
            "0.7909129169328468\n",
            "-\n",
            "English:        can we talk\n",
            "Spanish (true):  podemos hablar\n",
            "Spanish (pred):  podemos hablar\n",
            "0.9621954581957615\n",
            "-\n",
            "English:        tom hates secrets\n",
            "Spanish (true):  tom odia los secretos\n",
            "Spanish (pred):  tom odia las franas\n",
            "0.851748936078004\n",
            "-\n",
            "English:        tom forgot\n",
            "Spanish (true):  a tom se le olvido\n",
            "Spanish (pred):  tom se revino\n",
            "0.8857000285382948\n",
            "-\n",
            "English:        its outdated\n",
            "Spanish (true):  esta obsoleto\n",
            "Spanish (pred):  esta de rapido\n",
            "0.8091067115702212\n",
            "-\n",
            "English:        hi how are you\n",
            "Spanish (true):  hola que tal estas\n",
            "Spanish (pred):  hila que tu dijas\n",
            "0.8529987544592307\n",
            "-\n",
            "English:        let me know\n",
            "Spanish (true):  hazmelo saber\n",
            "Spanish (pred):  ahora vamos\n",
            "0.8931539818068694\n",
            "-\n",
            "English:        i didnt clean it\n",
            "Spanish (true):  yo no lo limpie\n",
            "Spanish (pred):  no lo lo menecio\n",
            "0.8132882808488929\n",
            "-\n",
            "English:        get away\n",
            "Spanish (true):  vete de aqui\n",
            "Spanish (pred):  largate\n",
            "0.8091067115702212\n",
            "-\n",
            "English:        im not sick\n",
            "Spanish (true):  no estoy enferma\n",
            "Spanish (pred):  no estoy enfermo\n",
            "0.8891397050194614\n",
            "-\n",
            "English:        were patient\n",
            "Spanish (true):  somos pacientes\n",
            "Spanish (pred):  somos amigos\n",
            "0.8408964152537145\n",
            "-\n",
            "English:        do you want money\n",
            "Spanish (true):  quieren dinero\n",
            "Spanish (pred):  quieres una mola\n",
            "0.8408964152537145\n",
            "-\n",
            "English:        i have few books\n",
            "Spanish (true):  tengo pocos libros\n",
            "Spanish (pred):  tengo los libros muentes\n",
            "0.8228020420406904\n",
            "-\n",
            "English:        thanks for asking\n",
            "Spanish (true):  gracias por preguntarme\n",
            "Spanish (pred):  gracias por favor\n",
            "0.8529987544592307\n",
            "-\n",
            "English:        tom ate an orange\n",
            "Spanish (true):  tom se comio una naranja\n",
            "Spanish (pred):  tom comio un rancho\n",
            "0.851748936078004\n",
            "-\n",
            "English:        lets begin then\n",
            "Spanish (true):  entonces empecemos\n",
            "Spanish (pred):  enveremos atra vez\n",
            "0.7896895367562644\n",
            "-\n",
            "English:        who canceled\n",
            "Spanish (true):  quien fue el que hizo la cancelacion\n",
            "Spanish (pred):  quien cantero\n",
            "0.912167909070388\n",
            "-\n",
            "English:        they are happy\n",
            "Spanish (true):  ellos estan felices\n",
            "Spanish (pred):  ellos sin felices\n",
            "0.8529987544592307\n",
            "-\n",
            "English:        dont give me that\n",
            "Spanish (true):  no me lo den\n",
            "Spanish (pred):  no me moleste\n",
            "0.8242367502646054\n",
            "-\n",
            "English:        there are rules\n",
            "Spanish (true):  hay reglas\n",
            "Spanish (pred):  estos son nuestras\n",
            "0.7259795291154771\n",
            "-\n",
            "English:        im resting\n",
            "Spanish (true):  estoy descansando\n",
            "Spanish (pred):  estoy esperando\n",
            "0.8801117367933934\n",
            "-\n",
            "English:        i have to see tom\n",
            "Spanish (true):  tengo que ver a tom\n",
            "Spanish (pred):  tengo que intentrar a tom\n",
            "0.8144476398584994\n",
            "-\n",
            "English:        theyll grow\n",
            "Spanish (true):  creceran\n",
            "Spanish (pred):  ellos vanaran\n",
            "0.7447819789879647\n",
            "-\n",
            "English:        we must pay taxes\n",
            "Spanish (true):  debemos pagar impuestos\n",
            "Spanish (pred):  tenemos que dormir\n",
            "0.8633400213704505\n",
            "-\n",
            "English:        its still warm\n",
            "Spanish (true):  todavia esta caliente\n",
            "Spanish (pred):  todavia esta aqui\n",
            "0.8529987544592307\n",
            "-\n",
            "English:        no means no\n",
            "Spanish (true):  no significa no\n",
            "Spanish (pred):  ahora intentalo\n",
            "0.7598356856515925\n",
            "-\n",
            "English:        who would care\n",
            "Spanish (true):  a quien le importaria\n",
            "Spanish (pred):  quien te disparo parar\n",
            "0.8408964152537145\n",
            "-\n",
            "English:        its your turn\n",
            "Spanish (true):  es tu turno\n",
            "Spanish (pred):  es tu didico\n",
            "0.8408964152537145\n",
            "-\n",
            "English:        i need to rest\n",
            "Spanish (true):  necesito descansar\n",
            "Spanish (pred):  necesito desastar\n",
            "0.8968833070917552\n",
            "-\n",
            "English:        i was defenseless\n",
            "Spanish (true):  estuve indefenso\n",
            "Spanish (pred):  fui prefivor\n",
            "0.8739351325046805\n",
            "-\n",
            "English:        that isnt tom\n",
            "Spanish (true):  ese no es tom\n",
            "Spanish (pred):  eso no es tim\n",
            "0.8566209113168688\n",
            "-\n",
            "English:        im watching you\n",
            "Spanish (true):  te estoy viendo\n",
            "Spanish (pred):  estoy estudiando con tos\n",
            "0.7825422900366437\n",
            "-\n",
            "English:        youre biased\n",
            "Spanish (true):  eres parcial\n",
            "Spanish (pred):  estas despedidos\n",
            "0.7825422900366437\n",
            "-\n",
            "English:        tell us more\n",
            "Spanish (true):  digannos mas\n",
            "Spanish (pred):  cuenteme mas\n",
            "0.8034284189446518\n",
            "-\n",
            "English:        are you studying\n",
            "Spanish (true):  tu estudias\n",
            "Spanish (pred):  estas trabajando\n",
            "0.7825422900366437\n",
            "-\n",
            "English:        a bird has wings\n",
            "Spanish (true):  los pajaros tienen alas\n",
            "Spanish (pred):  llego la puerta es mia\n",
            "0.8210967436686386\n",
            "-\n",
            "English:        have you seen them\n",
            "Spanish (true):  los has visto\n",
            "Spanish (pred):  los habeis visto\n",
            "0.8660254037844387\n",
            "-\n",
            "English:        youre blowing it\n",
            "Spanish (true):  la estas cagando\n",
            "Spanish (pred):  eres un pranco estantante\n",
            "0.7521206186172787\n",
            "-\n",
            "English:        shes a bit naive\n",
            "Spanish (true):  ella es un poco ingenua\n",
            "Spanish (pred):  ella es una buela chica\n",
            "0.7909129169328468\n",
            "-\n",
            "English:        no one warned me\n",
            "Spanish (true):  nadie me advirtio\n",
            "Spanish (pred):  nadie me abo\n",
            "0.9036020036098448\n",
            "-\n",
            "English:        whats in the box\n",
            "Spanish (true):  que hay en la caja\n",
            "Spanish (pred):  que es el auto es el coche\n",
            "0.7447819789879647\n",
            "-\n",
            "Average Accuracy = 0.8270640517029326\n"
          ]
        }
      ],
      "source": [
        "from nltk.translate.bleu_score import sentence_bleu\n",
        "\n",
        "# print(x_test_encoded.shape[0]) # 4000\n",
        "score = 0\n",
        "for i in range(100):\n",
        "    sequence = x_test_encoded[i: i+1]\n",
        "    decoded_sentence = decode_sequence(sequence)\n",
        "    print('-')\n",
        "    print('English:       ', x_test[i])\n",
        "    print('Spanish (true): ', y_test[i][1:-1])\n",
        "    print('Spanish (pred): ', decoded_sentence[0:-1])\n",
        "    s = sentence_bleu(y_test[i][1:-1], decoded_sentence[0:-1])\n",
        "    print(s)\n",
        "    score += s\n",
        "    \n",
        "    \n",
        "print(\"-\\nAverage Accuracy = \"+str(score/100))"
      ]
    }
  ],
  "metadata": {
    "kernelspec": {
      "display_name": "Python 3",
      "language": "python",
      "name": "python3"
    },
    "language_info": {
      "codemirror_mode": {
        "name": "ipython",
        "version": 3
      },
      "file_extension": ".py",
      "mimetype": "text/x-python",
      "name": "python",
      "nbconvert_exporter": "python",
      "pygments_lexer": "ipython3",
      "version": "3.8.8"
    },
    "colab": {
      "name": "Assignment3.ipynb",
      "provenance": [],
      "collapsed_sections": []
    },
    "accelerator": "GPU"
  },
  "nbformat": 4,
  "nbformat_minor": 0
}
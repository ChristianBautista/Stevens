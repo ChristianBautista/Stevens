{
  "cells": [
    {
      "cell_type": "markdown",
      "metadata": {
        "id": "ady8ZVZd30h4"
      },
      "source": [
        "# Assignment 2: Build a CNN for image recognition.\n",
        "\n",
        "## Due Date:  March 29, 11:59PM\n",
        "\n",
        "### Name: Christian Bautista\n"
      ]
    },
    {
      "cell_type": "markdown",
      "metadata": {
        "id": "EtL3bNpm30h_"
      },
      "source": [
        "## Introduction:\n",
        "\n",
        "1. In this assignment, you will build Convolutional Neural Network to classify CIFAR-10 Images.\n",
        "2. You can directly load dataset from many deep learning packages.\n",
        "3. You can use any deep learning packages such as pytorch, keras or tensorflow for this assignment."
      ]
    },
    {
      "cell_type": "markdown",
      "metadata": {
        "id": "7ZfwLE6830iA"
      },
      "source": [
        "## Requirements:\n",
        "\n",
        "1. You need to load cifar 10 data and split the entire training dataset into training and validation.\n",
        "2. You will implement a CNN model to classify cifar 10 images with provided structure.\n",
        "3. You need to plot the training and validation accuracy or loss obtained from above step.\n",
        "4. Then you can use tuned parameters to train using the entire training dataset.\n",
        "5. You should report the testing accuracy using the model with complete data.\n",
        "6. You may try to change the structure (e.g, add BN layer or dropout layer,...) and analyze your findings.\n",
        "\n",
        "## Google Colab\n",
        "\n",
        "- If you do not have GPU, the training of a CNN can be slow. Google Colab is a good option."
      ]
    },
    {
      "cell_type": "markdown",
      "metadata": {
        "id": "MzhfVh4g30iB"
      },
      "source": [
        "## Batch Normalization (BN)"
      ]
    },
    {
      "cell_type": "markdown",
      "metadata": {
        "id": "X2M-vfhR30iB"
      },
      "source": [
        "### Background:"
      ]
    },
    {
      "cell_type": "markdown",
      "metadata": {
        "id": "0uuDx7Le30iC"
      },
      "source": [
        "- Batch Normalization is a technique to speed up training and help make the model more stable.\n",
        "- In simple words, batch normalization is just another network layer that gets inserted between a hidden layer and the next hidden layer. Its job is to take the outputs from the first hidden layer and normalize them before passing them on as the input of the next hidden layer.\n",
        "\n",
        "- For more detailed information, you may refer to the original paper: https://arxiv.org/pdf/1502.03167.pdf."
      ]
    },
    {
      "cell_type": "markdown",
      "metadata": {
        "id": "PW1-jcRo30iD"
      },
      "source": [
        "### BN Algorithm:"
      ]
    },
    {
      "cell_type": "markdown",
      "metadata": {
        "id": "FB2crByb30iE"
      },
      "source": [
        "- Input: Values of $x$ over a mini-batch: $\\mathbf{B}$ = $\\{x_1,..., x_m\\};$\n",
        "- Output: $\\{y_i = BN_{\\gamma,\\beta}(x_i)\\}$, $\\gamma, \\beta$ are learnable parameters\n",
        "\n",
        "Normalization of the Input:\n",
        "$$\\mu_{\\mathbf{B}} = \\frac{1}{m}\\sum_{i=1}^m x_i$$\n",
        "$$\\sigma_{\\mathbf{B}}^2 = \\frac{1}{m}\\sum_{i=1}^m (x_i - \\mu_{\\mathbf{B}})^2$$\n",
        "$$\\hat{x_i} = \\frac{x_i - \\mu_{\\mathbf{B}}}{\\sqrt{\\sigma_{\\mathbf{B}}}^2 + \\epsilon}$$\n",
        "Re-scaling and Offsetting:\n",
        "$$y_i = \\gamma \\hat{x_i} + \\beta = BN_{\\gamma,\\beta}(x_i)$$\n"
      ]
    },
    {
      "cell_type": "markdown",
      "metadata": {
        "id": "7ep48dPG30iF"
      },
      "source": [
        "### Advantages of BN:\n",
        "1. Improves gradient flow through the network.\n",
        "2. Allows use of saturating nonlinearities and higher learning rates.\n",
        "3. Makes weights easier to initialize.\n",
        "4. Act as a form of regularization and may reduce the need for dropout."
      ]
    },
    {
      "cell_type": "markdown",
      "metadata": {
        "id": "vyx_CusE30iG"
      },
      "source": [
        "### Implementation:"
      ]
    },
    {
      "cell_type": "markdown",
      "metadata": {
        "id": "EGu1ImiB30iG"
      },
      "source": [
        "- The batch normalization layer has already been implemented in many packages. You may simply call the function to build the layer. For example: torch.nn.BatchNorm2d() using pytroch package, keras.layers.BatchNormalization() using keras package.\n",
        "- The location of BN layer: Please make sure ```BatchNormalization``` is between a ```Conv```/```Dense``` layer and an ```activation``` layer."
      ]
    },
    {
      "cell_type": "markdown",
      "metadata": {
        "id": "9ZrH34MF30iH"
      },
      "source": [
        "## 1. Data preparation"
      ]
    },
    {
      "cell_type": "markdown",
      "metadata": {
        "id": "wgtGg2rl30iH"
      },
      "source": [
        "### 1.1. Load data\n"
      ]
    },
    {
      "cell_type": "code",
      "execution_count": 1,
      "metadata": {
        "colab": {
          "base_uri": "https://localhost:8080/"
        },
        "id": "FpIGKxC930iI",
        "outputId": "01d901d6-05cd-4be2-821a-90a357d806e5"
      },
      "outputs": [
        {
          "output_type": "stream",
          "name": "stdout",
          "text": [
            "Downloading data from https://www.cs.toronto.edu/~kriz/cifar-10-python.tar.gz\n",
            "170500096/170498071 [==============================] - 6s 0us/step\n",
            "170508288/170498071 [==============================] - 6s 0us/step\n",
            "shape of x_train: (50000, 32, 32, 3)\n",
            "shape of y_train: (50000, 1)\n",
            "shape of x_test: (10000, 32, 32, 3)\n",
            "shape of y_test: (10000, 1)\n",
            "number of classes: 10\n"
          ]
        }
      ],
      "source": [
        "# Load Cifar-10 Data\n",
        "# This is just an example, you may load dataset from other packages.\n",
        "from keras.datasets import cifar10\n",
        "import numpy as np\n",
        "\n",
        "### If you can not load keras dataset, un-comment these two lines.\n",
        "#import ssl\n",
        "#ssl._create_default_https_context = ssl._create_unverified_context\n",
        "\n",
        "(x_train, y_train), (x_test, y_test) = cifar10.load_data()\n",
        "\n",
        "print('shape of x_train: ' + str(x_train.shape))\n",
        "print('shape of y_train: ' + str(y_train.shape))\n",
        "print('shape of x_test: ' + str(x_test.shape))\n",
        "print('shape of y_test: ' + str(y_test.shape))\n",
        "print('number of classes: ' + str(np.max(y_train) - np.min(y_train) + 1))"
      ]
    },
    {
      "cell_type": "markdown",
      "metadata": {
        "id": "M3xxlfwY30iK"
      },
      "source": [
        "### 1.2. One-hot encode the labels (5 points)\n",
        "\n",
        "In the input, a label is a scalar in $\\{0, 1, \\cdots , 9\\}$. One-hot encode transform such a scalar to a $10$-dim vector. E.g., a scalar ```y_train[j]=3``` is transformed to the vector ```y_train_vec[j]=[0, 0, 0, 1, 0, 0, 0, 0, 0, 0]```.\n",
        "\n",
        "1. Implement a function ```to_one_hot``` that transforms an $n\\times 1$ array to a $n\\times 10$ matrix.\n",
        "\n",
        "2. Apply the function to ```y_train``` and ```y_test```."
      ]
    },
    {
      "cell_type": "code",
      "execution_count": 2,
      "metadata": {
        "colab": {
          "base_uri": "https://localhost:8080/"
        },
        "id": "H8mMdfug30iL",
        "outputId": "834bc688-6d69-41b9-e83a-cfe8b7622c1b"
      },
      "outputs": [
        {
          "output_type": "stream",
          "name": "stdout",
          "text": [
            "Shape of y_train_vec: (50000, 10)\n",
            "Shape of y_test_vec: (10000, 10)\n",
            "[6]\n",
            "[0. 0. 0. 0. 0. 0. 1. 0. 0. 0.]\n"
          ]
        }
      ],
      "source": [
        "def to_one_hot(y, num_class=10):\n",
        "    mat = np.zeros((y.shape[0],num_class))\n",
        "    for i in range(y.shape[0]):\n",
        "        mat[i][y[i][0]] = 1\n",
        "    return mat\n",
        "\n",
        "y_train_vec = to_one_hot(y_train)\n",
        "y_test_vec = to_one_hot(y_test)\n",
        "\n",
        "print('Shape of y_train_vec: ' + str(y_train_vec.shape))\n",
        "print('Shape of y_test_vec: ' + str(y_test_vec.shape))\n",
        "\n",
        "print(y_train[0])\n",
        "print(y_train_vec[0])"
      ]
    },
    {
      "cell_type": "markdown",
      "metadata": {
        "id": "DgHAbUx330iM"
      },
      "source": [
        "#### Remark: the outputs should be\n",
        "* Shape of y_train_vec: (50000, 10)\n",
        "* Shape of y_test_vec: (10000, 10)\n",
        "* [6]\n",
        "* [0. 0. 0. 0. 0. 0. 1. 0. 0. 0.]"
      ]
    },
    {
      "cell_type": "markdown",
      "metadata": {
        "id": "4Y7ypTzy30iM"
      },
      "source": [
        "### 1.3. Randomly partition the training set to training and validation sets (5 points)\n",
        "\n",
        "Randomly partition the 50K training samples to 2 sets: \n",
        "* a training set containing 40K samples: x_tr, y_tr\n",
        "* a validation set containing 10K samples: x_val, y_val\n"
      ]
    },
    {
      "cell_type": "code",
      "execution_count": 3,
      "metadata": {
        "colab": {
          "base_uri": "https://localhost:8080/"
        },
        "id": "LEgTY9_Q30iN",
        "outputId": "dfd3d143-241d-41a2-b4d4-77b7f2f424f8"
      },
      "outputs": [
        {
          "output_type": "stream",
          "name": "stdout",
          "text": [
            "Shape of x_tr: (40000, 32, 32, 3)\n",
            "Shape of y_tr: (40000, 1)\n",
            "Shape of x_val: (10000, 32, 32, 3)\n",
            "Shape of y_val: (10000, 1)\n"
          ]
        }
      ],
      "source": [
        "from sklearn.model_selection import train_test_split\n",
        "\n",
        "x_tr, x_val, y_tr, y_val = train_test_split(x_train,y_train,test_size=0.2)\n",
        "\n",
        "print('Shape of x_tr: ' + str(x_tr.shape))\n",
        "print('Shape of y_tr: ' + str(y_tr.shape))\n",
        "print('Shape of x_val: ' + str(x_val.shape))\n",
        "print('Shape of y_val: ' + str(y_val.shape))"
      ]
    },
    {
      "cell_type": "markdown",
      "metadata": {
        "id": "vQc8abP930iN"
      },
      "source": [
        "## 2. Build a CNN and tune its hyper-parameters (50 points)\n",
        "\n",
        "- Build a convolutional neural network model using the below structure:\n",
        "\n",
        "- It should have a structure of: Conv - ReLU - Max Pool - ConV - ReLU - Max Pool - Dense - ReLU - Dense - Softmax\n",
        "\n",
        "- In the graph 3@32x32 means the dimension of input image, 32@30x30 means it has 32 filters and the dimension now becomes 30x30 after the convolution.\n",
        "- All convolutional layers (Conv) should have stride = 1 and no padding.\n",
        "- Max Pooling has a pool size of 2 by 2.\n",
        "\n",
        "\n"
      ]
    },
    {
      "cell_type": "markdown",
      "metadata": {
        "id": "MGijDzmq30iO"
      },
      "source": [
        "<img src=\"network.PNG\"/>"
      ]
    },
    {
      "cell_type": "markdown",
      "metadata": {
        "id": "zEGTt3z630iO"
      },
      "source": [
        "- You may use the validation data to tune the hyper-parameters (e.g., learning rate, and optimization algorithm)\n",
        "- Do NOT use test data for hyper-parameter tuning!!!\n",
        "- Try to achieve a validation accuracy as high as possible."
      ]
    },
    {
      "cell_type": "code",
      "execution_count": 4,
      "metadata": {
        "id": "NISvvLtL30iO",
        "colab": {
          "base_uri": "https://localhost:8080/"
        },
        "outputId": "577d36bb-d083-4651-fcdc-35ed7bba3c80"
      },
      "outputs": [
        {
          "output_type": "stream",
          "name": "stdout",
          "text": [
            "Model: \"sequential\"\n",
            "_________________________________________________________________\n",
            " Layer (type)                Output Shape              Param #   \n",
            "=================================================================\n",
            " conv2d (Conv2D)             (None, 30, 30, 32)        896       \n",
            "                                                                 \n",
            " max_pooling2d (MaxPooling2D  (None, 15, 15, 32)       0         \n",
            " )                                                               \n",
            "                                                                 \n",
            " conv2d_1 (Conv2D)           (None, 12, 12, 64)        32832     \n",
            "                                                                 \n",
            " max_pooling2d_1 (MaxPooling  (None, 6, 6, 64)         0         \n",
            " 2D)                                                             \n",
            "                                                                 \n",
            " flatten (Flatten)           (None, 2304)              0         \n",
            "                                                                 \n",
            " dense (Dense)               (None, 256)               590080    \n",
            "                                                                 \n",
            " dense_1 (Dense)             (None, 10)                2570      \n",
            "                                                                 \n",
            "=================================================================\n",
            "Total params: 626,378\n",
            "Trainable params: 626,378\n",
            "Non-trainable params: 0\n",
            "_________________________________________________________________\n"
          ]
        }
      ],
      "source": [
        "# Build the model\n",
        "# Base Code from Lecture 6 and TensorFlow Tutorials: https://www.tensorflow.org/tutorials/images/cnn\n",
        "\n",
        "from keras import datasets, layers, models\n",
        "\n",
        "model = models.Sequential()\n",
        "model.add(layers.Conv2D(32, (3, 3), activation='relu', input_shape=(32, 32, 3)))\n",
        "model.add(layers.MaxPooling2D((2, 2)))\n",
        "model.add(layers.Conv2D(64, (4, 4), activation='relu'))\n",
        "model.add(layers.MaxPooling2D((2, 2)))\n",
        "model.add(layers.Flatten())\n",
        "model.add(layers.Dense(256, activation='relu'))\n",
        "model.add(layers.Dense(10, activation='softmax'))\n",
        "model.summary()"
      ]
    },
    {
      "cell_type": "code",
      "execution_count": 5,
      "metadata": {
        "id": "IL-0LHIv30iP"
      },
      "outputs": [],
      "source": [
        "# Define model optimizer and loss function\n",
        "from tensorflow import optimizers\n",
        "import tensorflow as tf\n",
        "\n",
        "tf.config.run_functions_eagerly(True)\n",
        "tf.data.experimental.enable_debug_mode()\n",
        "\n",
        "model.compile(optimizers.RMSprop(learning_rate=.001),\n",
        "              loss='categorical_crossentropy',\n",
        "              metrics=['accuracy'])"
      ]
    },
    {
      "cell_type": "code",
      "execution_count": 6,
      "metadata": {
        "id": "x2oo4HBE30iP",
        "colab": {
          "base_uri": "https://localhost:8080/"
        },
        "outputId": "3d59ae9a-a401-42a5-c384-5ea17498f28b"
      },
      "outputs": [
        {
          "output_type": "stream",
          "name": "stdout",
          "text": [
            "Epoch 1/50\n",
            "157/157 [==============================] - 17s 50ms/step - loss: 5.1778 - accuracy: 0.1845 - val_loss: 2.3749 - val_accuracy: 0.2393\n",
            "Epoch 2/50\n",
            "157/157 [==============================] - 8s 48ms/step - loss: 1.9342 - accuracy: 0.3350 - val_loss: 1.9282 - val_accuracy: 0.3751\n",
            "Epoch 3/50\n",
            "157/157 [==============================] - 8s 48ms/step - loss: 1.5475 - accuracy: 0.4682 - val_loss: 1.4695 - val_accuracy: 0.4844\n",
            "Epoch 4/50\n",
            "157/157 [==============================] - 8s 48ms/step - loss: 1.2713 - accuracy: 0.5628 - val_loss: 1.4012 - val_accuracy: 0.5227\n",
            "Epoch 5/50\n",
            "157/157 [==============================] - 8s 48ms/step - loss: 1.0739 - accuracy: 0.6366 - val_loss: 1.2782 - val_accuracy: 0.5823\n",
            "Epoch 6/50\n",
            "157/157 [==============================] - 7s 48ms/step - loss: 0.9051 - accuracy: 0.6927 - val_loss: 1.5214 - val_accuracy: 0.5113\n",
            "Epoch 7/50\n",
            "157/157 [==============================] - 7s 48ms/step - loss: 0.7543 - accuracy: 0.7443 - val_loss: 1.4290 - val_accuracy: 0.6002\n",
            "Epoch 8/50\n",
            "157/157 [==============================] - 8s 53ms/step - loss: 0.6248 - accuracy: 0.7882 - val_loss: 1.5337 - val_accuracy: 0.6004\n",
            "Epoch 9/50\n",
            "157/157 [==============================] - 8s 48ms/step - loss: 0.5025 - accuracy: 0.8325 - val_loss: 1.5415 - val_accuracy: 0.6074\n",
            "Epoch 10/50\n",
            "157/157 [==============================] - 8s 48ms/step - loss: 0.4009 - accuracy: 0.8645 - val_loss: 1.5116 - val_accuracy: 0.6208\n",
            "Epoch 11/50\n",
            "157/157 [==============================] - 7s 48ms/step - loss: 0.3195 - accuracy: 0.8939 - val_loss: 1.8357 - val_accuracy: 0.6214\n",
            "Epoch 12/50\n",
            "157/157 [==============================] - 7s 48ms/step - loss: 0.2568 - accuracy: 0.9154 - val_loss: 2.3223 - val_accuracy: 0.5923\n",
            "Epoch 13/50\n",
            "157/157 [==============================] - 8s 48ms/step - loss: 0.2292 - accuracy: 0.9252 - val_loss: 2.0116 - val_accuracy: 0.6355\n",
            "Epoch 14/50\n",
            "157/157 [==============================] - 7s 48ms/step - loss: 0.1945 - accuracy: 0.9388 - val_loss: 2.3239 - val_accuracy: 0.6179\n",
            "Epoch 15/50\n",
            "157/157 [==============================] - 8s 48ms/step - loss: 0.1574 - accuracy: 0.9489 - val_loss: 2.3555 - val_accuracy: 0.5947\n",
            "Epoch 16/50\n",
            "157/157 [==============================] - 9s 59ms/step - loss: 0.1528 - accuracy: 0.9533 - val_loss: 2.4163 - val_accuracy: 0.6371\n",
            "Epoch 17/50\n",
            "157/157 [==============================] - 11s 71ms/step - loss: 0.1376 - accuracy: 0.9589 - val_loss: 2.8110 - val_accuracy: 0.6280\n",
            "Epoch 18/50\n",
            "157/157 [==============================] - 7s 48ms/step - loss: 0.1334 - accuracy: 0.9605 - val_loss: 3.1264 - val_accuracy: 0.6348\n",
            "Epoch 19/50\n",
            "157/157 [==============================] - 8s 48ms/step - loss: 0.1215 - accuracy: 0.9645 - val_loss: 3.3550 - val_accuracy: 0.5935\n",
            "Epoch 20/50\n",
            "157/157 [==============================] - 8s 48ms/step - loss: 0.1045 - accuracy: 0.9677 - val_loss: 2.9877 - val_accuracy: 0.6050\n",
            "Epoch 21/50\n",
            "157/157 [==============================] - 7s 47ms/step - loss: 0.1127 - accuracy: 0.9677 - val_loss: 3.2532 - val_accuracy: 0.6277\n",
            "Epoch 22/50\n",
            "157/157 [==============================] - 8s 48ms/step - loss: 0.1172 - accuracy: 0.9669 - val_loss: 3.2892 - val_accuracy: 0.6370\n",
            "Epoch 23/50\n",
            "157/157 [==============================] - 7s 48ms/step - loss: 0.1121 - accuracy: 0.9700 - val_loss: 3.6639 - val_accuracy: 0.6365\n",
            "Epoch 24/50\n",
            "157/157 [==============================] - 8s 49ms/step - loss: 0.1034 - accuracy: 0.9719 - val_loss: 4.0867 - val_accuracy: 0.6088\n",
            "Epoch 25/50\n",
            "157/157 [==============================] - 8s 52ms/step - loss: 0.1056 - accuracy: 0.9729 - val_loss: 3.8718 - val_accuracy: 0.6221\n",
            "Epoch 26/50\n",
            "157/157 [==============================] - 8s 48ms/step - loss: 0.0921 - accuracy: 0.9738 - val_loss: 4.4889 - val_accuracy: 0.6068\n",
            "Epoch 27/50\n",
            "157/157 [==============================] - 8s 48ms/step - loss: 0.0917 - accuracy: 0.9752 - val_loss: 3.7382 - val_accuracy: 0.5936\n",
            "Epoch 28/50\n",
            "157/157 [==============================] - 8s 48ms/step - loss: 0.0973 - accuracy: 0.9747 - val_loss: 4.0527 - val_accuracy: 0.6266\n",
            "Epoch 29/50\n",
            "157/157 [==============================] - 7s 48ms/step - loss: 0.0931 - accuracy: 0.9768 - val_loss: 4.5874 - val_accuracy: 0.6370\n",
            "Epoch 30/50\n",
            "157/157 [==============================] - 8s 48ms/step - loss: 0.1042 - accuracy: 0.9749 - val_loss: 4.7337 - val_accuracy: 0.6135\n",
            "Epoch 31/50\n",
            "157/157 [==============================] - 7s 48ms/step - loss: 0.0878 - accuracy: 0.9783 - val_loss: 4.6103 - val_accuracy: 0.6202\n",
            "Epoch 32/50\n",
            "157/157 [==============================] - 7s 48ms/step - loss: 0.0932 - accuracy: 0.9776 - val_loss: 4.7366 - val_accuracy: 0.6265\n",
            "Epoch 33/50\n",
            "157/157 [==============================] - 7s 48ms/step - loss: 0.0883 - accuracy: 0.9784 - val_loss: 5.4775 - val_accuracy: 0.6154\n",
            "Epoch 34/50\n",
            "157/157 [==============================] - 7s 48ms/step - loss: 0.0953 - accuracy: 0.9766 - val_loss: 4.8493 - val_accuracy: 0.6260\n",
            "Epoch 35/50\n",
            "157/157 [==============================] - 7s 48ms/step - loss: 0.0839 - accuracy: 0.9795 - val_loss: 5.4065 - val_accuracy: 0.6368\n",
            "Epoch 36/50\n",
            "157/157 [==============================] - 8s 48ms/step - loss: 0.0973 - accuracy: 0.9772 - val_loss: 5.5335 - val_accuracy: 0.6301\n",
            "Epoch 37/50\n",
            "157/157 [==============================] - 8s 48ms/step - loss: 0.0863 - accuracy: 0.9805 - val_loss: 6.3205 - val_accuracy: 0.5634\n",
            "Epoch 38/50\n",
            "157/157 [==============================] - 8s 48ms/step - loss: 0.0997 - accuracy: 0.9789 - val_loss: 5.4518 - val_accuracy: 0.6348\n",
            "Epoch 39/50\n",
            "157/157 [==============================] - 7s 48ms/step - loss: 0.0859 - accuracy: 0.9811 - val_loss: 5.6390 - val_accuracy: 0.6313\n",
            "Epoch 40/50\n",
            "157/157 [==============================] - 7s 48ms/step - loss: 0.0894 - accuracy: 0.9806 - val_loss: 5.2109 - val_accuracy: 0.6305\n",
            "Epoch 41/50\n",
            "157/157 [==============================] - 8s 48ms/step - loss: 0.0888 - accuracy: 0.9806 - val_loss: 7.8891 - val_accuracy: 0.6220\n",
            "Epoch 42/50\n",
            "157/157 [==============================] - 7s 47ms/step - loss: 0.0928 - accuracy: 0.9814 - val_loss: 6.8127 - val_accuracy: 0.5898\n",
            "Epoch 43/50\n",
            "157/157 [==============================] - 8s 48ms/step - loss: 0.0893 - accuracy: 0.9808 - val_loss: 5.8166 - val_accuracy: 0.6188\n",
            "Epoch 44/50\n",
            "157/157 [==============================] - 7s 48ms/step - loss: 0.0823 - accuracy: 0.9823 - val_loss: 5.9466 - val_accuracy: 0.6381\n",
            "Epoch 45/50\n",
            "157/157 [==============================] - 8s 48ms/step - loss: 0.0801 - accuracy: 0.9834 - val_loss: 6.2488 - val_accuracy: 0.6292\n",
            "Epoch 46/50\n",
            "157/157 [==============================] - 7s 48ms/step - loss: 0.1020 - accuracy: 0.9816 - val_loss: 6.3358 - val_accuracy: 0.6366\n",
            "Epoch 47/50\n",
            "157/157 [==============================] - 8s 48ms/step - loss: 0.0840 - accuracy: 0.9833 - val_loss: 6.4898 - val_accuracy: 0.6449\n",
            "Epoch 48/50\n",
            "157/157 [==============================] - 8s 48ms/step - loss: 0.0912 - accuracy: 0.9819 - val_loss: 7.5624 - val_accuracy: 0.6147\n",
            "Epoch 49/50\n",
            "157/157 [==============================] - 7s 48ms/step - loss: 0.0902 - accuracy: 0.9825 - val_loss: 7.3786 - val_accuracy: 0.6074\n",
            "Epoch 50/50\n",
            "157/157 [==============================] - 7s 48ms/step - loss: 0.0892 - accuracy: 0.9834 - val_loss: 6.3424 - val_accuracy: 0.6321\n"
          ]
        }
      ],
      "source": [
        "# Train the model and store model parameters/loss values\n",
        "if y_tr.shape[1]!=10:\n",
        "    y_tr = to_one_hot(y_tr)\n",
        "if y_val.shape[1]!=10:\n",
        "    y_val = to_one_hot(y_val)\n",
        "\n",
        "history = model.fit(x_tr, y_tr, batch_size=256, epochs=50, validation_data=(x_val, y_val))"
      ]
    },
    {
      "cell_type": "markdown",
      "metadata": {
        "id": "20wZyB2B30iQ"
      },
      "source": [
        "## 3. Plot the training and validation loss curve versus epochs. (5 points)"
      ]
    },
    {
      "cell_type": "code",
      "execution_count": 7,
      "metadata": {
        "id": "zFEE0ckA30iQ",
        "colab": {
          "base_uri": "https://localhost:8080/",
          "height": 279
        },
        "outputId": "ef842d51-5b78-4c8c-cf63-283ae6792539"
      },
      "outputs": [
        {
          "output_type": "display_data",
          "data": {
            "text/plain": [
              "<Figure size 432x288 with 1 Axes>"
            ],
            "image/png": "[encoded data removed]"
          },
          "metadata": {
            "needs_background": "light"
          }
        }
      ],
      "source": [
        "# Plot the loss curve\n",
        "import matplotlib.pyplot as plot\n",
        "%matplotlib inline\n",
        "\n",
        "tr_loss = history.history['loss']\n",
        "val_loss = history.history['val_loss']\n",
        "epochs = range(len(tr_loss))\n",
        "\n",
        "plot.plot(epochs, tr_loss, 'bo', label='Training Loss')\n",
        "plot.plot(epochs, val_loss, 'r', label='Validation Loss')\n",
        "\n",
        "plot.xlabel('Epochs')\n",
        "plot.ylabel('Loss')\n",
        "plot.legend()\n",
        "plot.show()"
      ]
    },
    {
      "cell_type": "markdown",
      "metadata": {
        "id": "BCWVh2ad30iQ"
      },
      "source": [
        "## 4. Train (again) and evaluate the model (5 points)\n",
        "\n",
        "- To this end, you have found the \"best\" hyper-parameters. \n",
        "- Now, fix the hyper-parameters and train the network on the entire training set (all the 50K training samples)\n",
        "- Evaluate your model on the test set."
      ]
    },
    {
      "cell_type": "markdown",
      "metadata": {
        "id": "89l4VbVN30iR"
      },
      "source": [
        "### Train the model on the entire training set\n",
        "\n",
        "Why? Previously, you used 40K samples for training; you wasted 10K samples for the sake of hyper-parameter tuning. Now you already know the hyper-parameters, so why not using all the 50K samples for training?"
      ]
    },
    {
      "cell_type": "code",
      "execution_count": 8,
      "metadata": {
        "id": "6exyJUQQ30iR"
      },
      "outputs": [],
      "source": [
        "#<Compile your model again (using the same hyper-parameters you tuned above)>\n",
        "model.compile(optimizers.RMSprop(learning_rate=.001),\n",
        "              loss='categorical_crossentropy',\n",
        "              metrics=['accuracy'])"
      ]
    },
    {
      "cell_type": "code",
      "execution_count": 9,
      "metadata": {
        "id": "Fv_rZQUR30iS",
        "colab": {
          "base_uri": "https://localhost:8080/"
        },
        "outputId": "947e057c-96bf-46da-982f-98856573e032"
      },
      "outputs": [
        {
          "output_type": "stream",
          "name": "stdout",
          "text": [
            "Epoch 1/50\n",
            "196/196 [==============================] - 8s 43ms/step - loss: 0.9011 - accuracy: 0.8558\n",
            "Epoch 2/50\n",
            "196/196 [==============================] - 8s 43ms/step - loss: 0.4466 - accuracy: 0.9007\n",
            "Epoch 3/50\n",
            "196/196 [==============================] - 8s 42ms/step - loss: 0.2889 - accuracy: 0.9271\n",
            "Epoch 4/50\n",
            "196/196 [==============================] - 8s 42ms/step - loss: 0.2197 - accuracy: 0.9422\n",
            "Epoch 5/50\n",
            "196/196 [==============================] - 8s 42ms/step - loss: 0.1791 - accuracy: 0.9520\n",
            "Epoch 6/50\n",
            "196/196 [==============================] - 8s 42ms/step - loss: 0.1604 - accuracy: 0.9580\n",
            "Epoch 7/50\n",
            "196/196 [==============================] - 8s 42ms/step - loss: 0.1343 - accuracy: 0.9647\n",
            "Epoch 8/50\n",
            "196/196 [==============================] - 8s 42ms/step - loss: 0.1319 - accuracy: 0.9654\n",
            "Epoch 9/50\n",
            "196/196 [==============================] - 8s 42ms/step - loss: 0.1323 - accuracy: 0.9679\n",
            "Epoch 10/50\n",
            "196/196 [==============================] - 8s 42ms/step - loss: 0.1201 - accuracy: 0.9702\n",
            "Epoch 11/50\n",
            "196/196 [==============================] - 8s 42ms/step - loss: 0.1114 - accuracy: 0.9723\n",
            "Epoch 12/50\n",
            "196/196 [==============================] - 8s 42ms/step - loss: 0.1214 - accuracy: 0.9728\n",
            "Epoch 13/50\n",
            "196/196 [==============================] - 8s 43ms/step - loss: 0.1042 - accuracy: 0.9751\n",
            "Epoch 14/50\n",
            "196/196 [==============================] - 8s 43ms/step - loss: 0.0953 - accuracy: 0.9768\n",
            "Epoch 15/50\n",
            "196/196 [==============================] - 10s 52ms/step - loss: 0.1138 - accuracy: 0.9753\n",
            "Epoch 16/50\n",
            "196/196 [==============================] - 8s 42ms/step - loss: 0.1084 - accuracy: 0.9765\n",
            "Epoch 17/50\n",
            "196/196 [==============================] - 8s 42ms/step - loss: 0.0922 - accuracy: 0.9784\n",
            "Epoch 18/50\n",
            "196/196 [==============================] - 8s 42ms/step - loss: 0.1078 - accuracy: 0.9769\n",
            "Epoch 19/50\n",
            "196/196 [==============================] - 8s 43ms/step - loss: 0.1040 - accuracy: 0.9783\n",
            "Epoch 20/50\n",
            "196/196 [==============================] - 8s 42ms/step - loss: 0.0992 - accuracy: 0.9795\n",
            "Epoch 21/50\n",
            "196/196 [==============================] - 8s 42ms/step - loss: 0.1171 - accuracy: 0.9778\n",
            "Epoch 22/50\n",
            "196/196 [==============================] - 8s 42ms/step - loss: 0.1070 - accuracy: 0.9798\n",
            "Epoch 23/50\n",
            "196/196 [==============================] - 9s 48ms/step - loss: 0.1054 - accuracy: 0.9793\n",
            "Epoch 24/50\n",
            "196/196 [==============================] - 8s 42ms/step - loss: 0.1043 - accuracy: 0.9796\n",
            "Epoch 25/50\n",
            "196/196 [==============================] - 8s 43ms/step - loss: 0.1106 - accuracy: 0.9811\n",
            "Epoch 26/50\n",
            "196/196 [==============================] - 8s 43ms/step - loss: 0.0950 - accuracy: 0.9821\n",
            "Epoch 27/50\n",
            "196/196 [==============================] - 8s 43ms/step - loss: 0.0965 - accuracy: 0.9818\n",
            "Epoch 28/50\n",
            "196/196 [==============================] - 8s 42ms/step - loss: 0.0864 - accuracy: 0.9834\n",
            "Epoch 29/50\n",
            "196/196 [==============================] - 8s 42ms/step - loss: 0.0972 - accuracy: 0.9825\n",
            "Epoch 30/50\n",
            "196/196 [==============================] - 8s 42ms/step - loss: 0.0899 - accuracy: 0.9834\n",
            "Epoch 31/50\n",
            "196/196 [==============================] - 8s 42ms/step - loss: 0.0980 - accuracy: 0.9834\n",
            "Epoch 32/50\n",
            "196/196 [==============================] - 8s 42ms/step - loss: 0.1056 - accuracy: 0.9824\n",
            "Epoch 33/50\n",
            "196/196 [==============================] - 8s 42ms/step - loss: 0.0948 - accuracy: 0.9836\n",
            "Epoch 34/50\n",
            "196/196 [==============================] - 8s 43ms/step - loss: 0.0959 - accuracy: 0.9835\n",
            "Epoch 35/50\n",
            "196/196 [==============================] - 8s 42ms/step - loss: 0.1112 - accuracy: 0.9827\n",
            "Epoch 36/50\n",
            "196/196 [==============================] - 8s 43ms/step - loss: 0.0819 - accuracy: 0.9852\n",
            "Epoch 37/50\n",
            "196/196 [==============================] - 8s 42ms/step - loss: 0.1082 - accuracy: 0.9829\n",
            "Epoch 38/50\n",
            "196/196 [==============================] - 8s 42ms/step - loss: 0.0917 - accuracy: 0.9851\n",
            "Epoch 39/50\n",
            "196/196 [==============================] - 8s 43ms/step - loss: 0.0934 - accuracy: 0.9852\n",
            "Epoch 40/50\n",
            "196/196 [==============================] - 8s 42ms/step - loss: 0.0962 - accuracy: 0.9853\n",
            "Epoch 41/50\n",
            "196/196 [==============================] - 8s 42ms/step - loss: 0.1021 - accuracy: 0.9856\n",
            "Epoch 42/50\n",
            "196/196 [==============================] - 8s 42ms/step - loss: 0.0984 - accuracy: 0.9850\n",
            "Epoch 43/50\n",
            "196/196 [==============================] - 8s 42ms/step - loss: 0.0908 - accuracy: 0.9863\n",
            "Epoch 44/50\n",
            "196/196 [==============================] - 8s 43ms/step - loss: 0.0932 - accuracy: 0.9864\n",
            "Epoch 45/50\n",
            "196/196 [==============================] - 8s 42ms/step - loss: 0.0995 - accuracy: 0.9850\n",
            "Epoch 46/50\n",
            "196/196 [==============================] - 8s 42ms/step - loss: 0.1008 - accuracy: 0.9849\n",
            "Epoch 47/50\n",
            "196/196 [==============================] - 8s 42ms/step - loss: 0.0918 - accuracy: 0.9869\n",
            "Epoch 48/50\n",
            "196/196 [==============================] - 8s 42ms/step - loss: 0.0920 - accuracy: 0.9862\n",
            "Epoch 49/50\n",
            "196/196 [==============================] - 8s 42ms/step - loss: 0.0901 - accuracy: 0.9874\n",
            "Epoch 50/50\n",
            "196/196 [==============================] - 8s 42ms/step - loss: 0.0952 - accuracy: 0.9863\n"
          ]
        }
      ],
      "source": [
        "#<Train your model on the entire training set (50K samples)>\n",
        "\n",
        "history = model.fit(x_train, y_train_vec, batch_size=256, epochs=50)"
      ]
    },
    {
      "cell_type": "markdown",
      "metadata": {
        "id": "g6ym63sN30iS"
      },
      "source": [
        "## 5. Evaluate the model on the test set (5 points)\n",
        "\n",
        "Do NOT used the test set until now. Make sure that your model parameters and hyper-parameters are independent of the test set."
      ]
    },
    {
      "cell_type": "code",
      "execution_count": 10,
      "metadata": {
        "id": "-6e-gAxR30iS",
        "colab": {
          "base_uri": "https://localhost:8080/"
        },
        "outputId": "f70d9d68-0439-40e2-b7bc-74d91c00b852"
      },
      "outputs": [
        {
          "output_type": "stream",
          "name": "stdout",
          "text": [
            "313/313 [==============================] - 5s 16ms/step - loss: 10.4924 - accuracy: 0.6539\n",
            "Loss: 10.492378234863281\n",
            "Accuracy: 0.6539000272750854\n"
          ]
        }
      ],
      "source": [
        "# Evaluate your model performance (testing accuracy) on testing data.\n",
        "eval = model.evaluate(x_test, y_test_vec)\n",
        "print(\"Loss: \"+str(eval[0]))\n",
        "print(\"Accuracy: \"+str(eval[1]))"
      ]
    },
    {
      "cell_type": "markdown",
      "metadata": {
        "id": "VPdtnnHA30iT"
      },
      "source": [
        "## 6. Building model with new structure (25 points)\n",
        "- In this section, you can build your model with adding new layers (e.g, BN layer or dropout layer, ...).\n",
        "- If you want to regularize a ```Conv/Dense layer```, you should place a ```Dropout layer``` before the ```Conv/Dense layer```.\n",
        "- You can try to compare their loss curve and testing accuracy and analyze your findings.\n",
        "- You need to try at lease two different model structures."
      ]
    },
    {
      "cell_type": "code",
      "execution_count": 11,
      "metadata": {
        "id": "ukxdsGjh30iT",
        "colab": {
          "base_uri": "https://localhost:8080/"
        },
        "outputId": "fdbb229a-3b9a-4e49-b119-1b922a6c7ea7"
      },
      "outputs": [
        {
          "output_type": "stream",
          "name": "stdout",
          "text": [
            "Model: \"sequential_1\"\n",
            "_________________________________________________________________\n",
            " Layer (type)                Output Shape              Param #   \n",
            "=================================================================\n",
            " conv2d_2 (Conv2D)           (None, 30, 30, 16)        448       \n",
            "                                                                 \n",
            " batch_normalization (BatchN  (None, 30, 30, 16)       64        \n",
            " ormalization)                                                   \n",
            "                                                                 \n",
            " max_pooling2d_2 (MaxPooling  (None, 15, 15, 16)       0         \n",
            " 2D)                                                             \n",
            "                                                                 \n",
            " dropout (Dropout)           (None, 15, 15, 16)        0         \n",
            "                                                                 \n",
            " conv2d_3 (Conv2D)           (None, 12, 12, 16)        4112      \n",
            "                                                                 \n",
            " batch_normalization_1 (Batc  (None, 12, 12, 16)       64        \n",
            " hNormalization)                                                 \n",
            "                                                                 \n",
            " max_pooling2d_3 (MaxPooling  (None, 6, 6, 16)         0         \n",
            " 2D)                                                             \n",
            "                                                                 \n",
            " flatten_1 (Flatten)         (None, 576)               0         \n",
            "                                                                 \n",
            " dropout_1 (Dropout)         (None, 576)               0         \n",
            "                                                                 \n",
            " dense_2 (Dense)             (None, 256)               147712    \n",
            "                                                                 \n",
            " dense_3 (Dense)             (None, 10)                2570      \n",
            "                                                                 \n",
            "=================================================================\n",
            "Total params: 154,970\n",
            "Trainable params: 154,906\n",
            "Non-trainable params: 64\n",
            "_________________________________________________________________\n"
          ]
        }
      ],
      "source": [
        "# Model 1: Less Filters with BatchNormalization and Dropout\n",
        "modelOne = models.Sequential()\n",
        "modelOne.add(layers.Conv2D(16, (3, 3), activation='relu', input_shape=(32, 32, 3)))\n",
        "modelOne.add(layers.BatchNormalization())\n",
        "modelOne.add(layers.MaxPooling2D((2, 2)))\n",
        "modelOne.add(layers.Dropout(.2))\n",
        "modelOne.add(layers.Conv2D(16, (4, 4), activation='relu'))\n",
        "modelOne.add(layers.BatchNormalization())\n",
        "modelOne.add(layers.MaxPooling2D((2, 2)))\n",
        "modelOne.add(layers.Flatten())\n",
        "modelOne.add(layers.Dropout(.2))\n",
        "modelOne.add(layers.Dense(256, activation='relu'))\n",
        "modelOne.add(layers.Dense(10, activation='softmax'))\n",
        "modelOne.summary()"
      ]
    },
    {
      "cell_type": "code",
      "source": [
        "modelOne.compile(optimizers.RMSprop(learning_rate=.001),\n",
        "                 loss='categorical_crossentropy',\n",
        "                 metrics=['accuracy'])\n",
        "historyOne = model.fit(x_train, y_train_vec, batch_size=256, epochs=50)"
      ],
      "metadata": {
        "colab": {
          "base_uri": "https://localhost:8080/"
        },
        "id": "YP8MiXOTqZDm",
        "outputId": "34a7d23c-a2ac-4d78-d412-0d8d03394703"
      },
      "execution_count": 12,
      "outputs": [
        {
          "output_type": "stream",
          "name": "stdout",
          "text": [
            "Epoch 1/50\n",
            "196/196 [==============================] - 8s 42ms/step - loss: 0.1070 - accuracy: 0.9861\n",
            "Epoch 2/50\n",
            "196/196 [==============================] - 8s 42ms/step - loss: 0.0975 - accuracy: 0.9870\n",
            "Epoch 3/50\n",
            "196/196 [==============================] - 8s 42ms/step - loss: 0.0916 - accuracy: 0.9872\n",
            "Epoch 4/50\n",
            "196/196 [==============================] - 8s 42ms/step - loss: 0.0912 - accuracy: 0.9874\n",
            "Epoch 5/50\n",
            "196/196 [==============================] - 8s 42ms/step - loss: 0.1058 - accuracy: 0.9869\n",
            "Epoch 6/50\n",
            "196/196 [==============================] - 8s 42ms/step - loss: 0.0925 - accuracy: 0.9875\n",
            "Epoch 7/50\n",
            "196/196 [==============================] - 8s 42ms/step - loss: 0.1078 - accuracy: 0.9868\n",
            "Epoch 8/50\n",
            "196/196 [==============================] - 8s 42ms/step - loss: 0.1027 - accuracy: 0.9868\n",
            "Epoch 9/50\n",
            "196/196 [==============================] - 8s 42ms/step - loss: 0.0959 - accuracy: 0.9875\n",
            "Epoch 10/50\n",
            "196/196 [==============================] - 8s 42ms/step - loss: 0.1106 - accuracy: 0.9874\n",
            "Epoch 11/50\n",
            "196/196 [==============================] - 8s 42ms/step - loss: 0.1012 - accuracy: 0.9876\n",
            "Epoch 12/50\n",
            "196/196 [==============================] - 8s 42ms/step - loss: 0.0882 - accuracy: 0.9886\n",
            "Epoch 13/50\n",
            "196/196 [==============================] - 8s 42ms/step - loss: 0.0959 - accuracy: 0.9877\n",
            "Epoch 14/50\n",
            "196/196 [==============================] - 8s 42ms/step - loss: 0.0889 - accuracy: 0.9887\n",
            "Epoch 15/50\n",
            "196/196 [==============================] - 8s 42ms/step - loss: 0.1038 - accuracy: 0.9875\n",
            "Epoch 16/50\n",
            "196/196 [==============================] - 8s 42ms/step - loss: 0.1019 - accuracy: 0.9881\n",
            "Epoch 17/50\n",
            "196/196 [==============================] - 8s 42ms/step - loss: 0.0995 - accuracy: 0.9890\n",
            "Epoch 18/50\n",
            "196/196 [==============================] - 8s 42ms/step - loss: 0.0915 - accuracy: 0.9896\n",
            "Epoch 19/50\n",
            "196/196 [==============================] - 8s 43ms/step - loss: 0.0948 - accuracy: 0.9886\n",
            "Epoch 20/50\n",
            "196/196 [==============================] - 8s 42ms/step - loss: 0.1019 - accuracy: 0.9891\n",
            "Epoch 21/50\n",
            "196/196 [==============================] - 8s 42ms/step - loss: 0.1049 - accuracy: 0.9888\n",
            "Epoch 22/50\n",
            "196/196 [==============================] - 8s 42ms/step - loss: 0.0896 - accuracy: 0.9897\n",
            "Epoch 23/50\n",
            "196/196 [==============================] - 8s 42ms/step - loss: 0.1031 - accuracy: 0.9898\n",
            "Epoch 24/50\n",
            "196/196 [==============================] - 8s 42ms/step - loss: 0.0966 - accuracy: 0.9889\n",
            "Epoch 25/50\n",
            "196/196 [==============================] - 8s 42ms/step - loss: 0.0966 - accuracy: 0.9896\n",
            "Epoch 26/50\n",
            "196/196 [==============================] - 8s 42ms/step - loss: 0.0922 - accuracy: 0.9900\n",
            "Epoch 27/50\n",
            "196/196 [==============================] - 8s 42ms/step - loss: 0.0933 - accuracy: 0.9887\n",
            "Epoch 28/50\n",
            "196/196 [==============================] - 8s 42ms/step - loss: 0.0925 - accuracy: 0.9902\n",
            "Epoch 29/50\n",
            "196/196 [==============================] - 8s 42ms/step - loss: 0.1080 - accuracy: 0.9892\n",
            "Epoch 30/50\n",
            "196/196 [==============================] - 8s 42ms/step - loss: 0.1061 - accuracy: 0.9893\n",
            "Epoch 31/50\n",
            "196/196 [==============================] - 8s 42ms/step - loss: 0.0968 - accuracy: 0.9908\n",
            "Epoch 32/50\n",
            "196/196 [==============================] - 8s 42ms/step - loss: 0.0983 - accuracy: 0.9904\n",
            "Epoch 33/50\n",
            "196/196 [==============================] - 8s 42ms/step - loss: 0.0947 - accuracy: 0.9905\n",
            "Epoch 34/50\n",
            "196/196 [==============================] - 8s 42ms/step - loss: 0.0954 - accuracy: 0.9903\n",
            "Epoch 35/50\n",
            "196/196 [==============================] - 8s 42ms/step - loss: 0.1013 - accuracy: 0.9901\n",
            "Epoch 36/50\n",
            "196/196 [==============================] - 8s 42ms/step - loss: 0.1016 - accuracy: 0.9904\n",
            "Epoch 37/50\n",
            "196/196 [==============================] - 8s 42ms/step - loss: 0.0933 - accuracy: 0.9907\n",
            "Epoch 38/50\n",
            "196/196 [==============================] - 8s 42ms/step - loss: 0.0826 - accuracy: 0.9911\n",
            "Epoch 39/50\n",
            "196/196 [==============================] - 8s 43ms/step - loss: 0.0880 - accuracy: 0.9913\n",
            "Epoch 40/50\n",
            "196/196 [==============================] - 8s 43ms/step - loss: 0.0926 - accuracy: 0.9906\n",
            "Epoch 41/50\n",
            "196/196 [==============================] - 8s 43ms/step - loss: 0.0908 - accuracy: 0.9904\n",
            "Epoch 42/50\n",
            "196/196 [==============================] - 8s 43ms/step - loss: 0.0968 - accuracy: 0.9910\n",
            "Epoch 43/50\n",
            "196/196 [==============================] - 8s 43ms/step - loss: 0.0905 - accuracy: 0.9917\n",
            "Epoch 44/50\n",
            "196/196 [==============================] - 8s 43ms/step - loss: 0.1143 - accuracy: 0.9903\n",
            "Epoch 45/50\n",
            "196/196 [==============================] - 8s 43ms/step - loss: 0.1121 - accuracy: 0.9904\n",
            "Epoch 46/50\n",
            "196/196 [==============================] - 8s 42ms/step - loss: 0.1063 - accuracy: 0.9904\n",
            "Epoch 47/50\n",
            "196/196 [==============================] - 8s 42ms/step - loss: 0.0834 - accuracy: 0.9918\n",
            "Epoch 48/50\n",
            "196/196 [==============================] - 8s 43ms/step - loss: 0.0994 - accuracy: 0.9912\n",
            "Epoch 49/50\n",
            "196/196 [==============================] - 8s 43ms/step - loss: 0.0945 - accuracy: 0.9915\n",
            "Epoch 50/50\n",
            "196/196 [==============================] - 8s 43ms/step - loss: 0.0956 - accuracy: 0.9917\n"
          ]
        }
      ]
    },
    {
      "cell_type": "code",
      "source": [
        "# Model 2: More Filters with BatchNormalization and Dropout\n",
        "modelTwo = models.Sequential()\n",
        "modelTwo.add(layers.Conv2D(128, (3, 3), activation='relu', input_shape=(32, 32, 3)))\n",
        "modelOne.add(layers.BatchNormalization())\n",
        "modelTwo.add(layers.MaxPooling2D((2, 2)))\n",
        "modelOne.add(layers.Dropout(.2))\n",
        "modelTwo.add(layers.Conv2D(128, (4, 4), activation='relu'))\n",
        "modelOne.add(layers.BatchNormalization())\n",
        "modelTwo.add(layers.MaxPooling2D((2, 2)))\n",
        "modelTwo.add(layers.Flatten())\n",
        "modelOne.add(layers.Dropout(.2))\n",
        "modelTwo.add(layers.Dense(256, activation='relu'))\n",
        "modelTwo.add(layers.Dense(10, activation='softmax'))\n",
        "modelTwo.summary()"
      ],
      "metadata": {
        "id": "8zVKSRFClXa5",
        "colab": {
          "base_uri": "https://localhost:8080/"
        },
        "outputId": "e787f914-fd60-40a1-f173-bbb1819855ce"
      },
      "execution_count": 13,
      "outputs": [
        {
          "output_type": "stream",
          "name": "stdout",
          "text": [
            "Model: \"sequential_2\"\n",
            "_________________________________________________________________\n",
            " Layer (type)                Output Shape              Param #   \n",
            "=================================================================\n",
            " conv2d_4 (Conv2D)           (None, 30, 30, 128)       3584      \n",
            "                                                                 \n",
            " max_pooling2d_4 (MaxPooling  (None, 15, 15, 128)      0         \n",
            " 2D)                                                             \n",
            "                                                                 \n",
            " conv2d_5 (Conv2D)           (None, 12, 12, 128)       262272    \n",
            "                                                                 \n",
            " max_pooling2d_5 (MaxPooling  (None, 6, 6, 128)        0         \n",
            " 2D)                                                             \n",
            "                                                                 \n",
            " flatten_2 (Flatten)         (None, 4608)              0         \n",
            "                                                                 \n",
            " dense_4 (Dense)             (None, 256)               1179904   \n",
            "                                                                 \n",
            " dense_5 (Dense)             (None, 10)                2570      \n",
            "                                                                 \n",
            "=================================================================\n",
            "Total params: 1,448,330\n",
            "Trainable params: 1,448,330\n",
            "Non-trainable params: 0\n",
            "_________________________________________________________________\n"
          ]
        }
      ]
    },
    {
      "cell_type": "code",
      "source": [
        "modelTwo.compile(optimizers.RMSprop(learning_rate=.001),\n",
        "                 loss='categorical_crossentropy',\n",
        "                 metrics=['accuracy'])\n",
        "historyTwo = model.fit(x_train, y_train_vec, batch_size=256, epochs=50)"
      ],
      "metadata": {
        "colab": {
          "base_uri": "https://localhost:8080/"
        },
        "id": "sinXuQDlq9R1",
        "outputId": "eadf0509-7630-4115-daf6-c231042bf138"
      },
      "execution_count": 14,
      "outputs": [
        {
          "output_type": "stream",
          "name": "stdout",
          "text": [
            "Epoch 1/50\n",
            "196/196 [==============================] - 8s 43ms/step - loss: 0.1044 - accuracy: 0.9912\n",
            "Epoch 2/50\n",
            "196/196 [==============================] - 8s 43ms/step - loss: 0.0901 - accuracy: 0.9922\n",
            "Epoch 3/50\n",
            "196/196 [==============================] - 8s 43ms/step - loss: 0.1060 - accuracy: 0.9915\n",
            "Epoch 4/50\n",
            "196/196 [==============================] - 8s 43ms/step - loss: 0.1058 - accuracy: 0.9914\n",
            "Epoch 5/50\n",
            "196/196 [==============================] - 8s 43ms/step - loss: 0.0997 - accuracy: 0.9912\n",
            "Epoch 6/50\n",
            "196/196 [==============================] - 8s 42ms/step - loss: 0.1028 - accuracy: 0.9915\n",
            "Epoch 7/50\n",
            "196/196 [==============================] - 8s 42ms/step - loss: 0.0887 - accuracy: 0.9916\n",
            "Epoch 8/50\n",
            "196/196 [==============================] - 8s 43ms/step - loss: 0.0992 - accuracy: 0.9917\n",
            "Epoch 9/50\n",
            "196/196 [==============================] - 8s 43ms/step - loss: 0.0918 - accuracy: 0.9918\n",
            "Epoch 10/50\n",
            "196/196 [==============================] - 8s 43ms/step - loss: 0.1096 - accuracy: 0.9914\n",
            "Epoch 11/50\n",
            "196/196 [==============================] - 8s 42ms/step - loss: 0.0991 - accuracy: 0.9919\n",
            "Epoch 12/50\n",
            "196/196 [==============================] - 8s 42ms/step - loss: 0.0903 - accuracy: 0.9919\n",
            "Epoch 13/50\n",
            "196/196 [==============================] - 8s 42ms/step - loss: 0.1051 - accuracy: 0.9917\n",
            "Epoch 14/50\n",
            "196/196 [==============================] - 8s 42ms/step - loss: 0.0955 - accuracy: 0.9930\n",
            "Epoch 15/50\n",
            "196/196 [==============================] - 8s 42ms/step - loss: 0.1025 - accuracy: 0.9917\n",
            "Epoch 16/50\n",
            "196/196 [==============================] - 8s 42ms/step - loss: 0.0939 - accuracy: 0.9920\n",
            "Epoch 17/50\n",
            "196/196 [==============================] - 8s 43ms/step - loss: 0.0984 - accuracy: 0.9917\n",
            "Epoch 18/50\n",
            "196/196 [==============================] - 8s 42ms/step - loss: 0.1002 - accuracy: 0.9918\n",
            "Epoch 19/50\n",
            "196/196 [==============================] - 8s 43ms/step - loss: 0.1050 - accuracy: 0.9921\n",
            "Epoch 20/50\n",
            "196/196 [==============================] - 8s 43ms/step - loss: 0.1005 - accuracy: 0.9919\n",
            "Epoch 21/50\n",
            "196/196 [==============================] - 8s 43ms/step - loss: 0.0927 - accuracy: 0.9923\n",
            "Epoch 22/50\n",
            "196/196 [==============================] - 8s 43ms/step - loss: 0.1007 - accuracy: 0.9923\n",
            "Epoch 23/50\n",
            "196/196 [==============================] - 8s 43ms/step - loss: 0.1050 - accuracy: 0.9924\n",
            "Epoch 24/50\n",
            "196/196 [==============================] - 8s 43ms/step - loss: 0.0927 - accuracy: 0.9930\n",
            "Epoch 25/50\n",
            "196/196 [==============================] - 8s 42ms/step - loss: 0.1003 - accuracy: 0.9924\n",
            "Epoch 26/50\n",
            "196/196 [==============================] - 8s 42ms/step - loss: 0.1093 - accuracy: 0.9926\n",
            "Epoch 27/50\n",
            "196/196 [==============================] - 8s 43ms/step - loss: 0.1077 - accuracy: 0.9921\n",
            "Epoch 28/50\n",
            "196/196 [==============================] - 8s 43ms/step - loss: 0.1052 - accuracy: 0.9926\n",
            "Epoch 29/50\n",
            "196/196 [==============================] - 8s 42ms/step - loss: 0.0924 - accuracy: 0.9928\n",
            "Epoch 30/50\n",
            "196/196 [==============================] - 8s 43ms/step - loss: 0.1020 - accuracy: 0.9931\n",
            "Epoch 31/50\n",
            "196/196 [==============================] - 8s 43ms/step - loss: 0.0968 - accuracy: 0.9924\n",
            "Epoch 32/50\n",
            "196/196 [==============================] - 8s 43ms/step - loss: 0.1053 - accuracy: 0.9927\n",
            "Epoch 33/50\n",
            "196/196 [==============================] - 8s 42ms/step - loss: 0.1025 - accuracy: 0.9926\n",
            "Epoch 34/50\n",
            "196/196 [==============================] - 8s 43ms/step - loss: 0.1010 - accuracy: 0.9931\n",
            "Epoch 35/50\n",
            "196/196 [==============================] - 8s 43ms/step - loss: 0.1056 - accuracy: 0.9926\n",
            "Epoch 36/50\n",
            "196/196 [==============================] - 8s 43ms/step - loss: 0.1017 - accuracy: 0.9928\n",
            "Epoch 37/50\n",
            "196/196 [==============================] - 8s 43ms/step - loss: 0.1093 - accuracy: 0.9927\n",
            "Epoch 38/50\n",
            "196/196 [==============================] - 8s 43ms/step - loss: 0.1046 - accuracy: 0.9932\n",
            "Epoch 39/50\n",
            "196/196 [==============================] - 8s 43ms/step - loss: 0.0958 - accuracy: 0.9931\n",
            "Epoch 40/50\n",
            "196/196 [==============================] - 8s 43ms/step - loss: 0.1060 - accuracy: 0.9928\n",
            "Epoch 41/50\n",
            "196/196 [==============================] - 8s 43ms/step - loss: 0.1059 - accuracy: 0.9926\n",
            "Epoch 42/50\n",
            "196/196 [==============================] - 8s 43ms/step - loss: 0.1048 - accuracy: 0.9928\n",
            "Epoch 43/50\n",
            "196/196 [==============================] - 8s 43ms/step - loss: 0.1090 - accuracy: 0.9929\n",
            "Epoch 44/50\n",
            "196/196 [==============================] - 8s 43ms/step - loss: 0.1042 - accuracy: 0.9929\n",
            "Epoch 45/50\n",
            "196/196 [==============================] - 8s 43ms/step - loss: 0.1096 - accuracy: 0.9928\n",
            "Epoch 46/50\n",
            "196/196 [==============================] - 8s 43ms/step - loss: 0.1128 - accuracy: 0.9928\n",
            "Epoch 47/50\n",
            "196/196 [==============================] - 8s 43ms/step - loss: 0.1126 - accuracy: 0.9926\n",
            "Epoch 48/50\n",
            "196/196 [==============================] - 8s 43ms/step - loss: 0.1157 - accuracy: 0.9929\n",
            "Epoch 49/50\n",
            "196/196 [==============================] - 8s 43ms/step - loss: 0.1108 - accuracy: 0.9927\n",
            "Epoch 50/50\n",
            "196/196 [==============================] - 8s 43ms/step - loss: 0.1040 - accuracy: 0.9933\n"
          ]
        }
      ]
    },
    {
      "cell_type": "code",
      "source": [
        "evalOne = modelOne.evaluate(x_test, y_test_vec)\n",
        "print(\"Model One Loss: \"+str(evalOne[0]))\n",
        "print(\"Model One Accuracy: \"+str(evalOne[1]))\n",
        "evalTwo = modelTwo.evaluate(x_test, y_test_vec)\n",
        "print(\"Model Two Loss: \"+str(evalTwo[0]))\n",
        "print(\"Model Two Accuracy: \"+str(evalTwo[1]))"
      ],
      "metadata": {
        "colab": {
          "base_uri": "https://localhost:8080/"
        },
        "id": "o0zT6eumrEUm",
        "outputId": "677f406f-1cd2-44f3-a4f1-915ddae692ca"
      },
      "execution_count": 15,
      "outputs": [
        {
          "output_type": "stream",
          "name": "stdout",
          "text": [
            "313/313 [==============================] - 6s 19ms/step - loss: 13.4405 - accuracy: 0.1088\n",
            "Model One Loss: 13.440512657165527\n",
            "Model One Accuracy: 0.1088000014424324\n",
            "313/313 [==============================] - 6s 18ms/step - loss: 29.4036 - accuracy: 0.1246\n",
            "Model Two Loss: 29.40362548828125\n",
            "Model Two Accuracy: 0.12460000067949295\n"
          ]
        }
      ]
    }
  ],
  "metadata": {
    "kernelspec": {
      "display_name": "Python 3 (ipykernel)",
      "language": "python",
      "name": "python3"
    },
    "language_info": {
      "codemirror_mode": {
        "name": "ipython",
        "version": 3
      },
      "file_extension": ".py",
      "mimetype": "text/x-python",
      "name": "python",
      "nbconvert_exporter": "python",
      "pygments_lexer": "ipython3",
      "version": "3.9.10"
    },
    "colab": {
      "name": "Assignment2.ipynb",
      "provenance": [],
      "collapsed_sections": []
    },
    "accelerator": "GPU"
  },
  "nbformat": 4,
  "nbformat_minor": 0
}